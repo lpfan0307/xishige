{
 "cells": [
  {
   "cell_type": "code",
   "execution_count": 1,
   "metadata": {},
   "outputs": [],
   "source": [
    "import pandas as pd\n",
    "import xlrd\n",
    "import os\n",
    "from collections import defaultdict"
   ]
  },
  {
   "cell_type": "code",
   "execution_count": 2,
   "metadata": {},
   "outputs": [],
   "source": [
    "#from PyPDF2 import PdfFileReader,PdfFileWriter"
   ]
  },
  {
   "cell_type": "code",
   "execution_count": 3,
   "metadata": {},
   "outputs": [
    {
     "name": "stdout",
     "output_type": "stream",
     "text": [
      "\u001b[34m2019_12\u001b[m\u001b[m/            \u001b[34m2020_04的副本\u001b[m\u001b[m/      \u001b[34m2020_07\u001b[m\u001b[m/            \u001b[34m2020_11\u001b[m\u001b[m/\r\n",
      "\u001b[34m2020_01\u001b[m\u001b[m/            \u001b[34m2020_05\u001b[m\u001b[m/            \u001b[34m2020_08\u001b[m\u001b[m/            \u001b[34m季度汇总\u001b[m\u001b[m/\r\n",
      "\u001b[34m2020_03\u001b[m\u001b[m/            \u001b[34m2020_05的副本\u001b[m\u001b[m/      \u001b[34m2020_09\u001b[m\u001b[m/            \u001b[34m和黄晴的结算\u001b[m\u001b[m/\r\n",
      "\u001b[34m2020_04\u001b[m\u001b[m/            \u001b[34m2020_06\u001b[m\u001b[m/            \u001b[34m2020_10\u001b[m\u001b[m/\r\n"
     ]
    }
   ],
   "source": [
    "ls ./data"
   ]
  },
  {
   "cell_type": "code",
   "execution_count": 4,
   "metadata": {},
   "outputs": [],
   "source": [
    "class Bill:\n",
    "    def __init__(self, year, mon):\n",
    "        self.year = year\n",
    "        self.mon = mon\n",
    "        self.sell_file = self.get_sell_file()\n",
    "        content = xlrd.open_workbook(filename=self.sell_file,encoding_override='gbk')\n",
    "        self.sell_df = pd.read_excel(content)\n",
    "        self.commission_file = self.get_commission_file()\n",
    "        content = xlrd.open_workbook(filename=self.commission_file,encoding_override='gbk')\n",
    "        self.commission_df = pd.read_excel(content)\n",
    "        #self.sell_df = pd.read_excel(self.sell_file,encoding='gbk')\n",
    "    def gen_path(self, filename):\n",
    "        return  './data/{0}_{1:02d}/{2}'.format(self.year, self.mon,filename)\n",
    "    def get_sell_file(self):\n",
    "        return self.gen_path('销售单据表.xls')\n",
    "    def get_commission_file(self):\n",
    "        return self.gen_path('提成明细表.xls')\n",
    "    def get_total_income(self):\n",
    "        #总收入\n",
    "        self.total_income = 0\n",
    "        #充值总收入\n",
    "        self.total_recharge = 0\n",
    "        #充次总收入\n",
    "        self.total_time_recharge = 0\n",
    "        for index, row in self.sell_df.iterrows():\n",
    "            income_sf = row['实付']\n",
    "            income_czk = row['储值卡']\n",
    "            self.total_income += row['实付'] - row['储值卡']\n",
    "            \n",
    "            if row['单据类型'] == '购买次数':\n",
    "                self.total_time_recharge += row['实付']\n",
    "                \n",
    "            if row['单据类型'] == '购买次数' or row['单据类型'] == '充值收费' or row['单据类型']=='开户收费':\n",
    "                self.total_recharge += row['实付'] - row['储值卡']\n",
    "               \n",
    "        print('总收入:',self.total_income)\n",
    "        print('充值总收入:',self.total_recharge)\n",
    "        print('充次总收入:',self.total_time_recharge) \n",
    "    def get_true_income(self):\n",
    "        # 实际项目总收入（会员+非会员）\n",
    "        self.true_income = 0\n",
    "        true_income_types = ['消费收银','快速消费']\n",
    "        #会员实际项目总收入\n",
    "        self.member_true_income = 0\n",
    "        for index, row in self.sell_df.iterrows():\n",
    "            if row['单据类型'] in true_income_types:\n",
    "                if not pd.isnull(row['会员类型']):\n",
    "                    self.member_true_income += row['实付']\n",
    "                self.true_income += row['实付']\n",
    "        print(self.member_true_income)\n",
    "        print(self.true_income)\n",
    "        \n",
    "        #实际扣次项目\n",
    "        self.true_time_dic = defaultdict(int)\n",
    "        for index, row in self.commission_df.iterrows():\n",
    "            if row['提成类型'] == '扣次消费':\n",
    "                self.true_time_dic[row['名称']] += 1\n",
    "        print(self.true_time_dic)\n",
    "    def get_employee_commission(self):\n",
    "        tmp_commission = self.commission_df.copy()\n",
    "        self.commision_detail = {}\n",
    "        selected_df = tmp_commission[['时间','员工','名称','支付','提成','提成类型','姓名']]\n",
    "        selected_df['时间'] = selected_df['时间'].apply(lambda x:'{0}-{1}'.format(x.month, x.day))\n",
    "        for employee, df in selected_df.groupby(['员工']):\n",
    "            print(employee)\n",
    "            print(df)\n",
    "            df = df[['时间','员工','名称','提成类型','姓名','支付','提成']]\n",
    "            print(df['提成'].sum())\n",
    "            self.commision_detail[employee +\"_提成\"] = df['提成'].sum()\n",
    "            df.to_csv(self.gen_path('{0}.csv'.format(employee)),index=False,encoding='gbk')\n",
    "            df.to_excel(self.gen_path('{0}.xls'.format(employee)),index=False,encoding='gbk')\n",
    "        self.commision_detail['总提成'] = tmp_commission['提成'].sum()\n",
    "        print(self.commision_detail)\n",
    "        \n",
    "    def get_recharge_detail(self):\n",
    "        tmp_df = self.sell_df.copy()\n",
    "        recharge_df = tmp_df[tmp_df['单据类型'].isin(set(['购买次数','充值收费','开户收费']))]\n",
    "        recharge_df = recharge_df[['单据类型','时间','实付','储值卡','会员姓名','会员卡号']]\n",
    "        total_recharge = recharge_df['实付'].sum()-recharge_df['储值卡'].sum()\n",
    "        des_sum = '累计充值：{0},各个会员充值情况如下\\n'.format(total_recharge)\n",
    "        des_sum += '==============================\\n'\n",
    "        for name, df in recharge_df.groupby(['会员卡号']):\n",
    "            s = 0\n",
    "            des = '{0}({1:d}):累计充值{2}元\\n'.format(df.iloc[0]['会员姓名'],int(name),int(df['实付'].sum()-df['储值卡'].sum()))\n",
    "            des_sum += des\n",
    "            #print('{0}:{1}'.format(name,df['实付'].sum()-df['储值卡'].sum()))\n",
    "            total_recharge += df['实付'].sum()-df['储值卡'].sum()\n",
    "            s += df['实付'].sum()-df['储值卡'].sum()\n",
    "            des = '明细如下:\\n'\n",
    "            df = df.sort_values(by=['单据类型'],ascending=False)\n",
    "\n",
    "            for index, row in df.iterrows():\n",
    "                if row['单据类型'] == '购买次数' and row['实付']>0:\n",
    "                    des = des + '购买次数:' + str(int((row['实付']))) + ',时间:' + (str(row['时间'].month) + '-' + str(row['时间'].day))+'\\n'\n",
    "                    s -= row['实付']\n",
    "                if row['单据类型'] == '充值收费' and s > 0:\n",
    "                    des = des + '充值收费:' + str((int(row['实付']))) + ',时间:' + (str(row['时间'].month) + '-' + str(row['时间'].day))+'\\n'\n",
    "                    s -= row['实付']\n",
    "                if row['单据类型'] == '开户收费' and s > 0:\n",
    "                    des = des + '开户收费:' + str((int(row['实付']))) + ',时间:' + (str(row['时间'].month) + '-' + str(row['时间'].day))+'\\n'\n",
    "                    s -= row['实付']\n",
    "            #print(des)\n",
    "            des_sum += des\n",
    "            des_sum += '==============================\\n'\n",
    "            f = open(self.gen_path('会员充值明细_{0}_{1}.txt'.format(self.year,self.mon)),'w')\n",
    "            f.write(des_sum)\n",
    "            f.close()\n",
    "        return des_sum\n",
    "    def get_nomember_detail(self):\n",
    "        tmp_df = self.sell_df.copy()\n",
    "        tmp_df['not_member'] = tmp_df['会员卡号'].apply(lambda x:pd.isnull(x))\n",
    "        nomember_detail_df = tmp_df[tmp_df['not_member']]\n",
    "        nomember_detail_df = nomember_detail_df[['单据类型','实付','时间']]\n",
    "        #print(nomember_detail_df)\n",
    "        des_not_member = ''\n",
    "        des_not_member += '散客累计消费:{0}\\n明细如下：\\n'.format(nomember_detail_df['实付'].sum())\n",
    "        for index, row in nomember_detail_df.iterrows():\n",
    "            des_not_member += '{0}:'.format(row['单据类型']) + str((int(row['实付']))) + ',时间:' + (str(row['时间'].month) + '-' + str(row['时间'].day))+'\\n'\n",
    "        f = open(self.gen_path('散客消费明细_{0}_{1}.txt'.format(self.year,self.mon)),'w')\n",
    "        f.write(des_not_member)\n",
    "        f.close()\n",
    "        return nomember_detail_df['实付'].sum()"
   ]
  },
  {
   "cell_type": "code",
   "execution_count": 5,
   "metadata": {},
   "outputs": [
    {
     "name": "stdout",
     "output_type": "stream",
     "text": [
      "孙妮.csv                       提成明细表.xls\r\n",
      "黄晴.csv                       销售单据表.xls\r\n",
      "孙妮.xls                       提成明细表_bak.xls\r\n",
      "黄晴.xls                       销售单据表_bak.xls\r\n",
      "邵红梅.csv                     会员充值明细_2020_8.txt\r\n",
      "邵红梅.xls                     散客消费明细_2020_8.txt\r\n"
     ]
    }
   ],
   "source": [
    "ls ./data/2020_08/"
   ]
  },
  {
   "cell_type": "code",
   "execution_count": 6,
   "metadata": {},
   "outputs": [
    {
     "name": "stdout",
     "output_type": "stream",
     "text": [
      "./data/2020_08/提成明细表.xls\r\n"
     ]
    }
   ],
   "source": [
    "ls ./data/2020_08/提成明细表.xls"
   ]
  },
  {
   "cell_type": "code",
   "execution_count": 7,
   "metadata": {},
   "outputs": [
    {
     "name": "stdout",
     "output_type": "stream",
     "text": [
      "WARNING *** file size (27796) not 512 + multiple of sector size (512)\n",
      "WARNING *** OLE2 inconsistency: SSCS size is 0 but SSAT size is non-zero\n",
      "WARNING *** file size (30769) not 512 + multiple of sector size (512)\n",
      "WARNING *** OLE2 inconsistency: SSCS size is 0 but SSAT size is non-zero\n"
     ]
    }
   ],
   "source": [
    "bill = Bill(2020, 11)"
   ]
  },
  {
   "cell_type": "code",
   "execution_count": 8,
   "metadata": {},
   "outputs": [
    {
     "data": {
      "text/plain": [
       "'./data/2020_11/销售单据表.xls'"
      ]
     },
     "execution_count": 8,
     "metadata": {},
     "output_type": "execute_result"
    }
   ],
   "source": [
    "bill.get_sell_file()"
   ]
  },
  {
   "cell_type": "code",
   "execution_count": 9,
   "metadata": {},
   "outputs": [
    {
     "name": "stdout",
     "output_type": "stream",
     "text": [
      "5173\n",
      "6299\n",
      "defaultdict(<class 'int'>, {'暖宫艾灸': 3, '皮肤清洁护理': 2, '美睫': 1})\n"
     ]
    }
   ],
   "source": [
    "bill.get_true_income()"
   ]
  },
  {
   "cell_type": "code",
   "execution_count": 10,
   "metadata": {},
   "outputs": [
    {
     "data": {
      "text/plain": [
       "'./data/2020_11/销售单据表.xls'"
      ]
     },
     "execution_count": 10,
     "metadata": {},
     "output_type": "execute_result"
    }
   ],
   "source": [
    "bill.sell_file"
   ]
  },
  {
   "cell_type": "code",
   "execution_count": 11,
   "metadata": {},
   "outputs": [
    {
     "name": "stdout",
     "output_type": "stream",
     "text": [
      "总收入: 8126\n",
      "充值总收入: 7000\n",
      "充次总收入: 0\n"
     ]
    }
   ],
   "source": [
    "bill.get_total_income()"
   ]
  },
  {
   "cell_type": "code",
   "execution_count": 12,
   "metadata": {},
   "outputs": [
    {
     "data": {
      "text/plain": [
       "'./data/2020_11/提成明细表.xls'"
      ]
     },
     "execution_count": 12,
     "metadata": {},
     "output_type": "execute_result"
    }
   ],
   "source": [
    "bill.commission_file"
   ]
  },
  {
   "cell_type": "code",
   "execution_count": 13,
   "metadata": {},
   "outputs": [
    {
     "name": "stdout",
     "output_type": "stream",
     "text": [
      "孙妮\n",
      "       时间  员工    名称      支付     提成  提成类型   姓名\n",
      "0    11-2  孙妮   NaN  1000.0   50.0  充值收费  城西路\n",
      "1    11-2  孙妮   NaN   290.0  116.0  快速消费  城西路\n",
      "2    11-2  孙妮   NaN  1000.0   50.0  充值收费    周\n",
      "3    11-2  孙妮   NaN   245.0   98.0  快速消费    周\n",
      "4    11-3  孙妮   NaN  1000.0   50.0  充值收费   徐梅\n",
      "5    11-4  孙妮   NaN   240.0   96.0  快速消费   徐梅\n",
      "9    11-6  孙妮   NaN   110.0   44.0  快速消费   潘潘\n",
      "10   11-6  孙妮   NaN   119.0   47.6  快速消费  徐晔琼\n",
      "11   11-9  孙妮   NaN  1000.0   50.0  充值收费   袁月\n",
      "12   11-9  孙妮   NaN   194.0    8.0  快速消费  沈慧仙\n",
      "13   11-9  孙妮  暖宫艾灸    88.0    8.0  扣次消费  沈慧仙\n",
      "14   11-9  孙妮   NaN   100.0   40.0  快速消费  蒋丽红\n",
      "15   11-9  孙妮   NaN   240.0   96.0  快速消费  NaN\n",
      "16   11-9  孙妮   NaN   100.0   40.0  快速消费  慧慧姐\n",
      "17   11-9  孙妮   NaN   110.0   44.0  快速消费   姣爷\n",
      "20  11-12  孙妮   NaN   240.0   96.0  快速消费   黄燕\n",
      "22  11-12  孙妮   NaN   100.0   40.0  快速消费  小微姐\n",
      "23  11-12  孙妮   NaN   220.0   88.0  快速消费   钱萍\n",
      "24  11-12  孙妮   NaN   150.0   60.0  快速消费  NaN\n",
      "25  11-16  孙妮   NaN  1000.0   50.0  充值收费  于芈亿\n",
      "26  11-16  孙妮   NaN   240.0   96.0  快速消费  于芈亿\n",
      "27  11-16  孙妮   NaN   294.0  117.6  快速消费  黄怡雯\n",
      "28  11-17  孙妮   NaN    40.0   16.0  快速消费   阿姨\n",
      "29  11-18  孙妮   NaN   240.0   96.0  快速消费  NaN\n",
      "30  11-18  孙妮   NaN   294.0  117.6  快速消费   旺旺\n",
      "31  11-18  孙妮    美睫   260.0  104.0  扣次消费   凤蔚\n",
      "32  11-18  孙妮   NaN    80.0   32.0  快速消费   凤蔚\n",
      "34  11-19  孙妮   NaN   100.0   40.0  快速消费   徐梅\n",
      "36  11-20  孙妮   NaN   100.0   40.0  快速消费   刘梅\n",
      "37  11-20  孙妮   NaN   240.0   96.0  快速消费   姣爷\n",
      "38  11-20  孙妮   NaN    60.0   24.0  快速消费   徐梅\n",
      "39  11-22  孙妮   NaN   320.0  128.0  快速消费  张丽雅\n",
      "40  11-22  孙妮   NaN   300.0  120.0  快速消费   王敏\n",
      "41  11-22  孙妮   NaN   294.0  117.6  快速消费   王敏\n",
      "42  11-22  孙妮   NaN   394.0  157.6  快速消费  吴雨蓮\n",
      "43  11-23  孙妮   NaN  1000.0   50.0  充值收费   王敏\n",
      "44  11-23  孙妮   NaN    80.0   32.0  快速消费  NaN\n",
      "45  11-27  孙妮   NaN   100.0   40.0  快速消费  于芈亿\n",
      "48  11-30  孙妮   NaN    80.0   32.0  快速消费  NaN\n",
      "2628.0\n",
      "邵红梅\n",
      "       时间   员工      名称      支付    提成  提成类型   姓名\n",
      "6    11-4  邵红梅     NaN    80.0  32.0  快速消费   徐梅\n",
      "7    11-4  邵红梅     NaN   168.0  67.2  快速消费  NaN\n",
      "8    11-6  邵红梅     NaN  1000.0  50.0  充值收费   潘潘\n",
      "18  11-12  邵红梅    暖宫艾灸    88.0   8.0  扣次消费   袁月\n",
      "19  11-12  邵红梅  皮肤清洁护理   132.0  30.0  扣次消费  刘红贵\n",
      "21  11-12  邵红梅     NaN   168.0  67.2  快速消费  NaN\n",
      "33  11-19  邵红梅  皮肤清洁护理   132.0  30.0  扣次消费   徐梅\n",
      "35  11-19  邵红梅     NaN     0.5  30.0  快速消费   袁月\n",
      "46  11-27  邵红梅    暖宫艾灸    88.0   8.0  扣次消费   潘潘\n",
      "47  11-27  邵红梅     NaN   168.0  67.2  快速消费   潘潘\n",
      "389.59999999999997\n",
      "{'孙妮_提成': 2628.0, '邵红梅_提成': 389.59999999999997, '总提成': 3017.6000000000004}\n"
     ]
    },
    {
     "name": "stderr",
     "output_type": "stream",
     "text": [
      "/Users/mtdp/opt/anaconda3/lib/python3.7/site-packages/ipykernel_launcher.py:63: SettingWithCopyWarning: \n",
      "A value is trying to be set on a copy of a slice from a DataFrame.\n",
      "Try using .loc[row_indexer,col_indexer] = value instead\n",
      "\n",
      "See the caveats in the documentation: https://pandas.pydata.org/pandas-docs/stable/user_guide/indexing.html#returning-a-view-versus-a-copy\n"
     ]
    }
   ],
   "source": [
    "bill.get_employee_commission()"
   ]
  },
  {
   "cell_type": "code",
   "execution_count": 14,
   "metadata": {},
   "outputs": [],
   "source": [
    "des_sum = bill.get_recharge_detail()"
   ]
  },
  {
   "cell_type": "code",
   "execution_count": 15,
   "metadata": {},
   "outputs": [
    {
     "data": {
      "text/plain": [
       "'累计充值：7000,各个会员充值情况如下\\n==============================\\n潘潘(60012):累计充值1000元\\n明细如下:\\n充值收费:1000,时间:11-6\\n==============================\\n袁月(60015):累计充值1000元\\n明细如下:\\n充值收费:1000,时间:11-9\\n==============================\\n于芈亿(60018):累计充值1000元\\n明细如下:\\n充值收费:1000,时间:11-16\\n==============================\\n王敏(60069):累计充值1000元\\n明细如下:\\n充值收费:1000,时间:11-23\\n==============================\\n城西路(60088):累计充值1000元\\n明细如下:\\n充值收费:1000,时间:11-2\\n==============================\\n周(60089):累计充值1000元\\n明细如下:\\n充值收费:1000,时间:11-2\\n==============================\\n徐梅(3469286837):累计充值1000元\\n明细如下:\\n充值收费:1000,时间:11-3\\n==============================\\n'"
      ]
     },
     "execution_count": 15,
     "metadata": {},
     "output_type": "execute_result"
    }
   ],
   "source": [
    "des_sum"
   ]
  },
  {
   "cell_type": "code",
   "execution_count": 16,
   "metadata": {},
   "outputs": [],
   "source": [
    "des_not_member = bill.get_nomember_detail()"
   ]
  },
  {
   "cell_type": "code",
   "execution_count": 17,
   "metadata": {},
   "outputs": [
    {
     "data": {
      "text/plain": [
       "1126"
      ]
     },
     "execution_count": 17,
     "metadata": {},
     "output_type": "execute_result"
    }
   ],
   "source": [
    "des_not_member"
   ]
  },
  {
   "cell_type": "code",
   "execution_count": 18,
   "metadata": {},
   "outputs": [
    {
     "name": "stdout",
     "output_type": "stream",
     "text": [
      "WARNING *** file size (22948) not 512 + multiple of sector size (512)\n",
      "WARNING *** OLE2 inconsistency: SSCS size is 0 but SSAT size is non-zero\n",
      "WARNING *** file size (26908) not 512 + multiple of sector size (512)\n",
      "WARNING *** OLE2 inconsistency: SSCS size is 0 but SSAT size is non-zero\n",
      "WARNING *** file size (27796) not 512 + multiple of sector size (512)\n",
      "WARNING *** OLE2 inconsistency: SSCS size is 0 but SSAT size is non-zero\n",
      "WARNING *** file size (30769) not 512 + multiple of sector size (512)\n",
      "WARNING *** OLE2 inconsistency: SSCS size is 0 but SSAT size is non-zero\n"
     ]
    }
   ],
   "source": [
    "bills  = []\n",
    "bills.append(Bill(2020, 9))\n",
    "bills.append(Bill(2020, 10))\n",
    "bills.append(Bill(2020, 11))"
   ]
  },
  {
   "cell_type": "code",
   "execution_count": 19,
   "metadata": {},
   "outputs": [
    {
     "name": "stdout",
     "output_type": "stream",
     "text": [
      "总收入: 8906\n",
      "充值总收入: 5500\n",
      "充次总收入: 0\n",
      "孙妮\n",
      "      时间  员工    名称    支付     提成  提成类型   姓名\n",
      "3    9-8  孙妮   NaN  1000   50.0  充值收费  小倪姐\n",
      "4    9-8  孙妮   NaN   294  117.6  快速消费  小倪姐\n",
      "5    9-8  孙妮    美甲    88   30.0  消费收银  NaN\n",
      "6    9-8  孙妮   NaN    92   36.8  快速消费  NaN\n",
      "7    9-9  孙妮   NaN   500   25.0  充值收费   小郭\n",
      "8    9-9  孙妮    美睫   250  100.0  扣次消费   小郭\n",
      "10   9-9  孙妮   NaN   198   39.6  快速消费   小郭\n",
      "11  9-10  孙妮   NaN   149   59.6  快速消费  王丹婧\n",
      "14  9-10  孙妮    美睫   250  100.0  扣次消费   小郭\n",
      "16  9-10  孙妮   NaN   109   43.6  快速消费   小郭\n",
      "17  9-14  孙妮   NaN    20    8.0  快速消费   刘梅\n",
      "18  9-14  孙妮   NaN   240   96.0  快速消费  NaN\n",
      "19  9-15  孙妮   NaN  1000   50.0  充值收费   吴雨\n",
      "20  9-15  孙妮   NaN   313  125.2  快速消费   吴雨\n",
      "21  9-17  孙妮   NaN   283  113.2  快速消费  王丹婧\n",
      "22  9-17  孙妮   NaN    69   17.6  快速消费   王敏\n",
      "24  9-18  孙妮   NaN  1000   50.0  充值收费   张依\n",
      "25  9-18  孙妮   NaN   360  130.0  快速消费   张依\n",
      "27  9-19  孙妮   NaN   294  117.6  快速消费  于芈亿\n",
      "28  9-19  孙妮   NaN    20    8.0  快速消费  于芈亿\n",
      "32  9-20  孙妮   NaN   194   77.6  快速消费  沈慧仙\n",
      "34  9-24  孙妮   NaN   240   96.0  快速消费  NaN\n",
      "35  9-24  孙妮   NaN   240   96.0  快速消费   徐梅\n",
      "36  9-25  孙妮   NaN  1000   50.0  充值收费  张丽雅\n",
      "37  9-25  孙妮   NaN   294  117.6  快速消费  张丽雅\n",
      "38  9-25  孙妮   NaN   210   84.0  快速消费  张丽雅\n",
      "39  9-25  孙妮   NaN   354  141.6  快速消费  蔡佩君\n",
      "40  9-25  孙妮   NaN   240   96.0  快速消费  NaN\n",
      "41  9-25  孙妮   NaN  1000   50.0  充值收费   姣爷\n",
      "42  9-25  孙妮   NaN   240   96.0  快速消费   姣爷\n",
      "43  9-27  孙妮   NaN   534  213.6  快速消费  黄怡雯\n",
      "44  9-27  孙妮  暖宫艾灸    88    8.0  扣次消费   袁月\n",
      "45  9-28  孙妮   NaN   323  129.2  快速消费   褚娟\n",
      "46  9-28  孙妮   NaN    70   28.0  快速消费  NaN\n",
      "47  9-28  孙妮    美睫   194   77.6  扣次消费  郭燕萍\n",
      "2678.9999999999995\n",
      "邵红梅\n",
      "      时间   员工      名称    支付     提成  提成类型   姓名\n",
      "0    9-3  邵红梅    精油开背    88   30.0  扣次消费  刘红贵\n",
      "1    9-3  邵红梅  皮肤清洁护理   132   30.0  扣次消费  刘红贵\n",
      "2    9-4  邵红梅     NaN    69   27.6  快速消费   刘梅\n",
      "9    9-9  邵红梅     NaN   198   39.6  快速消费   小郭\n",
      "12  9-10  邵红梅    暖宫艾灸    88    8.0  扣次消费   小郭\n",
      "13  9-10  邵红梅    暖宫艾灸    88    8.0  扣次消费   小郭\n",
      "15  9-10  邵红梅    暖宫艾灸    88    8.0  扣次消费   袁月\n",
      "23  9-17  邵红梅     NaN    69   10.0  快速消费   王敏\n",
      "26  9-18  邵红梅     NaN   360   14.0  快速消费   张依\n",
      "29  9-19  邵红梅     NaN   168   67.2  快速消费  NaN\n",
      "30  9-20  邵红梅    暖宫艾灸    88    8.0  扣次消费  沈慧仙\n",
      "31  9-20  邵红梅  皮肤清洁护理   132   30.0  扣次消费  刘红贵\n",
      "33  9-20  邵红梅     NaN   180   30.0  快速消费  NaN\n",
      "48  9-28  邵红梅    暖宫艾灸    88    8.0  扣次消费  沈慧仙\n",
      "49  9-29  邵红梅    精油开背    88   30.0  扣次消费  刘红贵\n",
      "50  9-29  邵红梅  皮肤清洁护理   132   30.0  扣次消费  刘红贵\n",
      "51  9-29  邵红梅     NaN  2000  360.0  快速消费  NaN\n",
      "738.4\n",
      "{'孙妮_提成': 2678.9999999999995, '邵红梅_提成': 738.4, '总提成': 3417.3999999999996}\n",
      "{'孙妮_提成': 2678.9999999999995, '邵红梅_提成': 738.4, '总提成': 3417.3999999999996}\n",
      "总收入: 6030.0\n",
      "充值总收入: 3898.0\n",
      "充次总收入: 0.0\n",
      "孙妮\n",
      "       时间  员工   名称      支付      提成  提成类型   姓名\n",
      "2   10-10  孙妮  NaN   120.0   48.00  快速消费   潘潘\n",
      "3   10-11  孙妮  NaN   200.0   80.00  快速消费  NaN\n",
      "4   10-11  孙妮  NaN    69.0   27.60  快速消费   芳芳\n",
      "5   10-11  孙妮  NaN   100.0   40.00  快速消费  NaN\n",
      "6   10-11  孙妮  NaN   109.9   43.96  快速消费  张轶鹰\n",
      "7   10-11  孙妮  NaN   124.6   49.84  快速消费  顾晓唯\n",
      "8   10-11  孙妮  NaN   240.0   96.00  快速消费   徐梅\n",
      "9   10-13  孙妮  NaN   240.0   96.00  快速消费   姣爷\n",
      "10  10-13  孙妮   美睫   250.0  100.00  扣次消费   小郭\n",
      "12  10-15  孙妮  NaN   240.0   96.00  快速消费  NaN\n",
      "17  10-16  孙妮  NaN    50.0   20.00  快速消费  沈慧仙\n",
      "18  10-19  孙妮  NaN  1000.0   50.00  充值收费   阿姨\n",
      "19  10-19  孙妮  NaN   240.0   96.00  快速消费  NaN\n",
      "20  10-19  孙妮  NaN   240.0   96.00  快速消费  NaN\n",
      "21  10-19  孙妮  NaN  1000.0   50.00  充值收费  黄怡雯\n",
      "22  10-19  孙妮  NaN   294.0  117.60  快速消费  黄怡雯\n",
      "23  10-19  孙妮  NaN    80.0   32.00  快速消费   王敏\n",
      "24  10-19  孙妮  NaN   500.0   25.00  充值收费   钱萍\n",
      "25  10-19  孙妮  NaN   220.0   88.00  快速消费   钱萍\n",
      "26  10-19  孙妮  NaN   294.0  117.60  快速消费  小微姐\n",
      "27  10-19  孙妮  NaN    96.6   38.64  快速消费   丁丁\n",
      "28  10-26  孙妮  NaN   174.0   69.60  快速消费  曹小姐\n",
      "31  10-26  孙妮  NaN  1000.0   50.00  充值收费   旺旺\n",
      "32  10-26  孙妮  NaN   393.0  157.20  快速消费   旺旺\n",
      "33  10-27  孙妮  NaN   200.0   80.00  快速消费  吴雨蓮\n",
      "34  10-27  孙妮  NaN   294.0  117.60  快速消费  NaN\n",
      "35  10-28  孙妮  NaN   290.0  116.00  快速消费  NaN\n",
      "36  10-28  孙妮  NaN   300.0  120.00  快速消费  NaN\n",
      "37  10-28  孙妮  NaN   100.0   40.00  快速消费  NaN\n",
      "39  10-30  孙妮  NaN   194.0   77.60  快速消费   袁月\n",
      "41  10-30  孙妮  NaN    50.0   20.00  快速消费   姣爷\n",
      "2256.24\n",
      "邵红梅\n",
      "       时间   员工      名称     支付    提成  提成类型   姓名\n",
      "0    10-9  邵红梅    精油开背   88.0  30.0  扣次消费  刘红贵\n",
      "1    10-9  邵红梅  皮肤清洁护理  132.0  30.0  扣次消费  刘红贵\n",
      "11  10-13  邵红梅     NaN   80.0  32.0  快速消费   小郭\n",
      "13  10-15  邵红梅    精油开背   88.0  30.0  扣次消费  刘红贵\n",
      "14  10-15  邵红梅  皮肤清洁护理  132.0  30.0  扣次消费  刘红贵\n",
      "15  10-15  邵红梅    精油开背   88.0  30.0  扣次消费  沈慧仙\n",
      "16  10-15  邵红梅    暖宫艾灸   88.0   8.0  扣次消费  沈慧仙\n",
      "29  10-26  邵红梅  皮肤清洁护理  132.0  30.0  扣次消费  刘红贵\n",
      "30  10-26  邵红梅    精油开背   88.0  30.0  扣次消费  刘红贵\n",
      "38  10-28  邵红梅     NaN  128.0  51.2  快速消费  NaN\n",
      "40  10-30  邵红梅    暖宫艾灸   88.0   8.0  扣次消费   袁月\n",
      "309.2\n",
      "{'孙妮_提成': 2256.24, '邵红梅_提成': 309.2, '总提成': 2565.44}\n",
      "{'孙妮_提成': 2256.24, '邵红梅_提成': 309.2, '总提成': 2565.44}\n",
      "总收入: 8126\n",
      "充值总收入: 7000\n",
      "充次总收入: 0\n",
      "孙妮\n",
      "       时间  员工    名称      支付     提成  提成类型   姓名\n",
      "0    11-2  孙妮   NaN  1000.0   50.0  充值收费  城西路\n",
      "1    11-2  孙妮   NaN   290.0  116.0  快速消费  城西路\n",
      "2    11-2  孙妮   NaN  1000.0   50.0  充值收费    周\n",
      "3    11-2  孙妮   NaN   245.0   98.0  快速消费    周\n",
      "4    11-3  孙妮   NaN  1000.0   50.0  充值收费   徐梅\n",
      "5    11-4  孙妮   NaN   240.0   96.0  快速消费   徐梅\n",
      "9    11-6  孙妮   NaN   110.0   44.0  快速消费   潘潘\n",
      "10   11-6  孙妮   NaN   119.0   47.6  快速消费  徐晔琼\n",
      "11   11-9  孙妮   NaN  1000.0   50.0  充值收费   袁月\n",
      "12   11-9  孙妮   NaN   194.0    8.0  快速消费  沈慧仙\n",
      "13   11-9  孙妮  暖宫艾灸    88.0    8.0  扣次消费  沈慧仙\n",
      "14   11-9  孙妮   NaN   100.0   40.0  快速消费  蒋丽红\n",
      "15   11-9  孙妮   NaN   240.0   96.0  快速消费  NaN\n",
      "16   11-9  孙妮   NaN   100.0   40.0  快速消费  慧慧姐\n",
      "17   11-9  孙妮   NaN   110.0   44.0  快速消费   姣爷\n",
      "20  11-12  孙妮   NaN   240.0   96.0  快速消费   黄燕\n",
      "22  11-12  孙妮   NaN   100.0   40.0  快速消费  小微姐\n",
      "23  11-12  孙妮   NaN   220.0   88.0  快速消费   钱萍\n",
      "24  11-12  孙妮   NaN   150.0   60.0  快速消费  NaN\n",
      "25  11-16  孙妮   NaN  1000.0   50.0  充值收费  于芈亿\n",
      "26  11-16  孙妮   NaN   240.0   96.0  快速消费  于芈亿\n",
      "27  11-16  孙妮   NaN   294.0  117.6  快速消费  黄怡雯\n",
      "28  11-17  孙妮   NaN    40.0   16.0  快速消费   阿姨\n",
      "29  11-18  孙妮   NaN   240.0   96.0  快速消费  NaN\n",
      "30  11-18  孙妮   NaN   294.0  117.6  快速消费   旺旺\n",
      "31  11-18  孙妮    美睫   260.0  104.0  扣次消费   凤蔚\n",
      "32  11-18  孙妮   NaN    80.0   32.0  快速消费   凤蔚\n",
      "34  11-19  孙妮   NaN   100.0   40.0  快速消费   徐梅\n",
      "36  11-20  孙妮   NaN   100.0   40.0  快速消费   刘梅\n",
      "37  11-20  孙妮   NaN   240.0   96.0  快速消费   姣爷\n",
      "38  11-20  孙妮   NaN    60.0   24.0  快速消费   徐梅\n",
      "39  11-22  孙妮   NaN   320.0  128.0  快速消费  张丽雅\n",
      "40  11-22  孙妮   NaN   300.0  120.0  快速消费   王敏\n",
      "41  11-22  孙妮   NaN   294.0  117.6  快速消费   王敏\n",
      "42  11-22  孙妮   NaN   394.0  157.6  快速消费  吴雨蓮\n",
      "43  11-23  孙妮   NaN  1000.0   50.0  充值收费   王敏\n",
      "44  11-23  孙妮   NaN    80.0   32.0  快速消费  NaN\n",
      "45  11-27  孙妮   NaN   100.0   40.0  快速消费  于芈亿\n",
      "48  11-30  孙妮   NaN    80.0   32.0  快速消费  NaN\n",
      "2628.0\n",
      "邵红梅\n",
      "       时间   员工      名称      支付    提成  提成类型   姓名\n",
      "6    11-4  邵红梅     NaN    80.0  32.0  快速消费   徐梅\n",
      "7    11-4  邵红梅     NaN   168.0  67.2  快速消费  NaN\n",
      "8    11-6  邵红梅     NaN  1000.0  50.0  充值收费   潘潘\n",
      "18  11-12  邵红梅    暖宫艾灸    88.0   8.0  扣次消费   袁月\n",
      "19  11-12  邵红梅  皮肤清洁护理   132.0  30.0  扣次消费  刘红贵\n",
      "21  11-12  邵红梅     NaN   168.0  67.2  快速消费  NaN\n",
      "33  11-19  邵红梅  皮肤清洁护理   132.0  30.0  扣次消费   徐梅\n",
      "35  11-19  邵红梅     NaN     0.5  30.0  快速消费   袁月\n",
      "46  11-27  邵红梅    暖宫艾灸    88.0   8.0  扣次消费   潘潘\n",
      "47  11-27  邵红梅     NaN   168.0  67.2  快速消费   潘潘\n",
      "389.59999999999997\n",
      "{'孙妮_提成': 2628.0, '邵红梅_提成': 389.59999999999997, '总提成': 3017.6000000000004}\n",
      "{'孙妮_提成': 2628.0, '邵红梅_提成': 389.59999999999997, '总提成': 3017.6000000000004}\n"
     ]
    },
    {
     "name": "stderr",
     "output_type": "stream",
     "text": [
      "/Users/mtdp/opt/anaconda3/lib/python3.7/site-packages/ipykernel_launcher.py:63: SettingWithCopyWarning: \n",
      "A value is trying to be set on a copy of a slice from a DataFrame.\n",
      "Try using .loc[row_indexer,col_indexer] = value instead\n",
      "\n",
      "See the caveats in the documentation: https://pandas.pydata.org/pandas-docs/stable/user_guide/indexing.html#returning-a-view-versus-a-copy\n",
      "/Users/mtdp/opt/anaconda3/lib/python3.7/site-packages/ipykernel_launcher.py:63: SettingWithCopyWarning: \n",
      "A value is trying to be set on a copy of a slice from a DataFrame.\n",
      "Try using .loc[row_indexer,col_indexer] = value instead\n",
      "\n",
      "See the caveats in the documentation: https://pandas.pydata.org/pandas-docs/stable/user_guide/indexing.html#returning-a-view-versus-a-copy\n",
      "/Users/mtdp/opt/anaconda3/lib/python3.7/site-packages/ipykernel_launcher.py:63: SettingWithCopyWarning: \n",
      "A value is trying to be set on a copy of a slice from a DataFrame.\n",
      "Try using .loc[row_indexer,col_indexer] = value instead\n",
      "\n",
      "See the caveats in the documentation: https://pandas.pydata.org/pandas-docs/stable/user_guide/indexing.html#returning-a-view-versus-a-copy\n"
     ]
    }
   ],
   "source": [
    "rows = []\n",
    "for bill in bills:\n",
    "    row = {}\n",
    "    bill.get_total_income()\n",
    "    row['月份'] = bill.mon\n",
    "    row['总收入'] = bill.total_income\n",
    "    row['充值总收入'] = bill.total_recharge\n",
    "    row['散客消费总收入'] = bill.get_nomember_detail()\n",
    "    bill.get_employee_commission()\n",
    "    print(bill.commision_detail)\n",
    "    for k in  bill.commision_detail:\n",
    "        row[k] = bill.commision_detail[k]\n",
    "    rows.append(row)"
   ]
  },
  {
   "cell_type": "code",
   "execution_count": 20,
   "metadata": {},
   "outputs": [
    {
     "data": {
      "text/plain": [
       "[{'月份': 9,\n",
       "  '总收入': 8906,\n",
       "  '充值总收入': 5500,\n",
       "  '散客消费总收入': 3406,\n",
       "  '孙妮_提成': 2678.9999999999995,\n",
       "  '邵红梅_提成': 738.4,\n",
       "  '总提成': 3417.3999999999996},\n",
       " {'月份': 10,\n",
       "  '总收入': 6030.0,\n",
       "  '充值总收入': 3898.0,\n",
       "  '散客消费总收入': 2132.0,\n",
       "  '孙妮_提成': 2256.24,\n",
       "  '邵红梅_提成': 309.2,\n",
       "  '总提成': 2565.44},\n",
       " {'月份': 11,\n",
       "  '总收入': 8126,\n",
       "  '充值总收入': 7000,\n",
       "  '散客消费总收入': 1126,\n",
       "  '孙妮_提成': 2628.0,\n",
       "  '邵红梅_提成': 389.59999999999997,\n",
       "  '总提成': 3017.6000000000004}]"
      ]
     },
     "execution_count": 20,
     "metadata": {},
     "output_type": "execute_result"
    }
   ],
   "source": [
    "rows"
   ]
  },
  {
   "cell_type": "code",
   "execution_count": 21,
   "metadata": {},
   "outputs": [],
   "source": [
    "result = pd.DataFrame(rows)"
   ]
  },
  {
   "cell_type": "code",
   "execution_count": 22,
   "metadata": {},
   "outputs": [],
   "source": [
    "result.to_excel('季度收入汇总表_09_11.xlsx',index=False)"
   ]
  },
  {
   "cell_type": "code",
   "execution_count": null,
   "metadata": {},
   "outputs": [],
   "source": []
  },
  {
   "cell_type": "code",
   "execution_count": null,
   "metadata": {},
   "outputs": [],
   "source": []
  },
  {
   "cell_type": "code",
   "execution_count": null,
   "metadata": {},
   "outputs": [],
   "source": []
  },
  {
   "cell_type": "code",
   "execution_count": null,
   "metadata": {},
   "outputs": [],
   "source": []
  },
  {
   "cell_type": "code",
   "execution_count": null,
   "metadata": {},
   "outputs": [],
   "source": []
  },
  {
   "cell_type": "code",
   "execution_count": null,
   "metadata": {},
   "outputs": [],
   "source": []
  }
 ],
 "metadata": {
  "kernelspec": {
   "display_name": "Python 3",
   "language": "python",
   "name": "python3"
  },
  "language_info": {
   "codemirror_mode": {
    "name": "ipython",
    "version": 3
   },
   "file_extension": ".py",
   "mimetype": "text/x-python",
   "name": "python",
   "nbconvert_exporter": "python",
   "pygments_lexer": "ipython3",
   "version": "3.7.4"
  }
 },
 "nbformat": 4,
 "nbformat_minor": 2
}
