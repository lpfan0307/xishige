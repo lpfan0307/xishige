{
 "cells": [
  {
   "cell_type": "code",
   "execution_count": 43,
   "metadata": {},
   "outputs": [],
   "source": [
    "import pandas as pd\n",
    "import xlrd\n",
    "import os\n",
    "from collections import defaultdict"
   ]
  },
  {
   "cell_type": "code",
   "execution_count": 44,
   "metadata": {},
   "outputs": [],
   "source": [
    "#from PyPDF2 import PdfFileReader,PdfFileWriter"
   ]
  },
  {
   "cell_type": "code",
   "execution_count": 45,
   "metadata": {},
   "outputs": [
    {
     "name": "stdout",
     "output_type": "stream",
     "text": [
      "\u001b[34m2019_12\u001b[m\u001b[m/          \u001b[34m2020_04\u001b[m\u001b[m/          \u001b[34m2020_05的副本\u001b[m\u001b[m/    \u001b[34m季度汇总\u001b[m\u001b[m/\r\n",
      "\u001b[34m2020_01\u001b[m\u001b[m/          \u001b[34m2020_04的副本\u001b[m\u001b[m/    \u001b[34m2020_06\u001b[m\u001b[m/\r\n",
      "\u001b[34m2020_03\u001b[m\u001b[m/          \u001b[34m2020_05\u001b[m\u001b[m/          \u001b[34m2020_07\u001b[m\u001b[m/\r\n"
     ]
    }
   ],
   "source": [
    "ls ./data"
   ]
  },
  {
   "cell_type": "code",
   "execution_count": 46,
   "metadata": {},
   "outputs": [],
   "source": [
    "class Bill:\n",
    "    def __init__(self, year, mon):\n",
    "        self.year = year\n",
    "        self.mon = mon\n",
    "        self.sell_file = self.get_sell_file()\n",
    "        content = xlrd.open_workbook(filename=self.sell_file,encoding_override='gbk')\n",
    "        self.sell_df = pd.read_excel(content)\n",
    "        self.commission_file = self.get_commission_file()\n",
    "        content = xlrd.open_workbook(filename=self.commission_file,encoding_override='gbk')\n",
    "        self.commission_df = pd.read_excel(content)\n",
    "        #self.sell_df = pd.read_excel(self.sell_file,encoding='gbk')\n",
    "    def gen_path(self, filename):\n",
    "        return  './data/{0}_{1:02d}/{2}'.format(self.year, self.mon,filename)\n",
    "    def get_sell_file(self):\n",
    "        return self.gen_path('销售单据表.xls')\n",
    "    def get_commission_file(self):\n",
    "        return self.gen_path('提成明细表.xls')\n",
    "    def get_total_income(self):\n",
    "        #总收入\n",
    "        self.total_income = 0\n",
    "        #充值总收入\n",
    "        self.total_recharge = 0\n",
    "        #充次总收入\n",
    "        self.total_time_recharge = 0\n",
    "        for index, row in self.sell_df.iterrows():\n",
    "            income_sf = row['实付']\n",
    "            income_czk = row['储值卡']\n",
    "            self.total_income += row['实付'] - row['储值卡']\n",
    "            \n",
    "            if row['单据类型'] == '购买次数':\n",
    "                self.total_time_recharge += row['实付']\n",
    "                \n",
    "            if row['单据类型'] == '购买次数' or row['单据类型'] == '充值收费' or row['单据类型']=='开户收费':\n",
    "                self.total_recharge += row['实付'] - row['储值卡']\n",
    "               \n",
    "        print('总收入:',self.total_income)\n",
    "        print('充值总收入:',self.total_recharge)\n",
    "        print('充次总收入:',self.total_time_recharge) \n",
    "    def get_true_income(self):\n",
    "        # 实际项目总收入（会员+非会员）\n",
    "        self.true_income = 0\n",
    "        true_income_types = ['消费收银','快速消费']\n",
    "        #会员实际项目总收入\n",
    "        self.member_true_income = 0\n",
    "        for index, row in self.sell_df.iterrows():\n",
    "            if row['单据类型'] in true_income_types:\n",
    "                if not pd.isnull(row['会员类型']):\n",
    "                    self.member_true_income += row['实付']\n",
    "                self.true_income += row['实付']\n",
    "        print(self.member_true_income)\n",
    "        print(self.true_income)\n",
    "        \n",
    "        #实际扣次项目\n",
    "        self.true_time_dic = defaultdict(int)\n",
    "        for index, row in self.commission_df.iterrows():\n",
    "            if row['提成类型'] == '扣次消费':\n",
    "                self.true_time_dic[row['名称']] += 1\n",
    "        print(self.true_time_dic)\n",
    "    def get_employee_commission(self):\n",
    "        tmp_commission = self.commission_df.copy()\n",
    "        self.commision_detail = {}\n",
    "        selected_df = tmp_commission[['时间','员工','名称','支付','提成','提成类型','姓名']]\n",
    "        selected_df['时间'] = selected_df['时间'].apply(lambda x:'{0}-{1}'.format(x.month, x.day))\n",
    "        for employee, df in selected_df.groupby(['员工']):\n",
    "            print(employee)\n",
    "            print(df)\n",
    "            df = df[['时间','员工','名称','提成类型','姓名','支付','提成']]\n",
    "            print(df['提成'].sum())\n",
    "            self.commision_detail[employee +\"_提成\"] = df['提成'].sum()\n",
    "            df.to_csv(self.gen_path('{0}.csv'.format(employee)),index=False,encoding='gbk')\n",
    "            df.to_excel(self.gen_path('{0}.xls'.format(employee)),index=False,encoding='gbk')\n",
    "        self.commision_detail['总提成'] = tmp_commission['提成'].sum()\n",
    "        print(self.commision_detail)\n",
    "        \n",
    "    def get_recharge_detail(self):\n",
    "        tmp_df = self.sell_df.copy()\n",
    "        recharge_df = tmp_df[tmp_df['单据类型'].isin(set(['购买次数','充值收费','开户收费']))]\n",
    "        recharge_df = recharge_df[['单据类型','时间','实付','储值卡','会员姓名','会员卡号']]\n",
    "        total_recharge = recharge_df['实付'].sum()-recharge_df['储值卡'].sum()\n",
    "        des_sum = '累计充值：{0},各个会员充值情况如下\\n'.format(total_recharge)\n",
    "        des_sum += '==============================\\n'\n",
    "        for name, df in recharge_df.groupby(['会员卡号']):\n",
    "            s = 0\n",
    "            des = '{0}({1:d}):累计充值{2}元\\n'.format(df.iloc[0]['会员姓名'],int(name),int(df['实付'].sum()-df['储值卡'].sum()))\n",
    "            des_sum += des\n",
    "            #print('{0}:{1}'.format(name,df['实付'].sum()-df['储值卡'].sum()))\n",
    "            total_recharge += df['实付'].sum()-df['储值卡'].sum()\n",
    "            s += df['实付'].sum()-df['储值卡'].sum()\n",
    "            des = '明细如下:\\n'\n",
    "            df = df.sort_values(by=['单据类型'],ascending=False)\n",
    "\n",
    "            for index, row in df.iterrows():\n",
    "                if row['单据类型'] == '购买次数' and row['实付']>0:\n",
    "                    des = des + '购买次数:' + str(int((row['实付']))) + ',时间:' + (str(row['时间'].month) + '-' + str(row['时间'].day))+'\\n'\n",
    "                    s -= row['实付']\n",
    "                if row['单据类型'] == '充值收费' and s > 0:\n",
    "                    des = des + '充值收费:' + str((int(row['实付']))) + ',时间:' + (str(row['时间'].month) + '-' + str(row['时间'].day))+'\\n'\n",
    "                    s -= row['实付']\n",
    "                if row['单据类型'] == '开户收费' and s > 0:\n",
    "                    des = des + '开户收费:' + str((int(row['实付']))) + ',时间:' + (str(row['时间'].month) + '-' + str(row['时间'].day))+'\\n'\n",
    "                    s -= row['实付']\n",
    "            #print(des)\n",
    "            des_sum += des\n",
    "            des_sum += '==============================\\n'\n",
    "            f = open(self.gen_path('会员充值明细_{0}_{1}.txt'.format(self.year,self.mon)),'w')\n",
    "            f.write(des_sum)\n",
    "            f.close()\n",
    "        return des_sum\n",
    "    def get_nomember_detail(self):\n",
    "        tmp_df = self.sell_df.copy()\n",
    "        tmp_df['not_member'] = tmp_df['会员卡号'].apply(lambda x:pd.isnull(x))\n",
    "        nomember_detail_df = tmp_df[tmp_df['not_member']]\n",
    "        nomember_detail_df = nomember_detail_df[['单据类型','实付','时间']]\n",
    "        #print(nomember_detail_df)\n",
    "        des_not_member = ''\n",
    "        des_not_member += '散客累计消费:{0}\\n明细如下：\\n'.format(nomember_detail_df['实付'].sum())\n",
    "        for index, row in nomember_detail_df.iterrows():\n",
    "            des_not_member += '{0}:'.format(row['单据类型']) + str((int(row['实付']))) + ',时间:' + (str(row['时间'].month) + '-' + str(row['时间'].day))+'\\n'\n",
    "        f = open(self.gen_path('散客消费明细_{0}_{1}.txt'.format(self.year,self.mon)),'w')\n",
    "        f.write(des_not_member)\n",
    "        f.close()\n",
    "        return nomember_detail_df['实付'].sum()"
   ]
  },
  {
   "cell_type": "code",
   "execution_count": 47,
   "metadata": {},
   "outputs": [
    {
     "name": "stdout",
     "output_type": "stream",
     "text": [
      "孙妮.csv                       邵红梅.xls\r\n",
      "黄晴.csv                       提成明细表.xls\r\n",
      "孙妮.xls                       销售单据表.xls\r\n",
      "黄晴.xls                       会员充值明细_2020_4.txt\r\n",
      "邵红梅.csv                     散客消费明细_2020_4.txt\r\n"
     ]
    }
   ],
   "source": [
    "ls ./data/2020_04/"
   ]
  },
  {
   "cell_type": "code",
   "execution_count": 48,
   "metadata": {},
   "outputs": [],
   "source": [
    "bill = Bill(2020, 7)"
   ]
  },
  {
   "cell_type": "code",
   "execution_count": 49,
   "metadata": {},
   "outputs": [
    {
     "data": {
      "text/plain": [
       "'./data/2020_07/销售单据表.xls'"
      ]
     },
     "execution_count": 49,
     "metadata": {},
     "output_type": "execute_result"
    }
   ],
   "source": [
    "bill.get_sell_file()"
   ]
  },
  {
   "cell_type": "code",
   "execution_count": 50,
   "metadata": {},
   "outputs": [
    {
     "name": "stdout",
     "output_type": "stream",
     "text": [
      "4756.599999999999\n",
      "6974.599999999999\n",
      "defaultdict(<class 'int'>, {'美睫': 1, '暖宫艾灸': 6, '精油开背': 5, '皮肤清洁护理': 1})\n"
     ]
    }
   ],
   "source": [
    "bill.get_true_income()"
   ]
  },
  {
   "cell_type": "code",
   "execution_count": 51,
   "metadata": {},
   "outputs": [
    {
     "data": {
      "text/plain": [
       "'./data/2020_07/销售单据表.xls'"
      ]
     },
     "execution_count": 51,
     "metadata": {},
     "output_type": "execute_result"
    }
   ],
   "source": [
    "bill.sell_file"
   ]
  },
  {
   "cell_type": "code",
   "execution_count": 52,
   "metadata": {},
   "outputs": [
    {
     "name": "stdout",
     "output_type": "stream",
     "text": [
      "总收入: 8178.0\n",
      "充值总收入: 5960.0\n",
      "充次总收入: 4160.0\n"
     ]
    }
   ],
   "source": [
    "bill.get_total_income()"
   ]
  },
  {
   "cell_type": "code",
   "execution_count": 53,
   "metadata": {},
   "outputs": [
    {
     "data": {
      "text/plain": [
       "'./data/2020_07/提成明细表.xls'"
      ]
     },
     "execution_count": 53,
     "metadata": {},
     "output_type": "execute_result"
    }
   ],
   "source": [
    "bill.commission_file"
   ]
  },
  {
   "cell_type": "code",
   "execution_count": 54,
   "metadata": {},
   "outputs": [
    {
     "name": "stdout",
     "output_type": "stream",
     "text": [
      "孙妮\n",
      "      时间  员工    名称      支付      提成  提成类型   姓名\n",
      "0    7-4  孙妮   NaN    99.0   39.60  快速消费  小米粥\n",
      "1    7-4  孙妮    美睫   194.0  107.00  扣次消费  郭燕萍\n",
      "2    7-5  孙妮   NaN   100.0   40.00  快速消费  NaN\n",
      "3    7-5  孙妮   NaN   393.0  157.20  快速消费   小郭\n",
      "4    7-5  孙妮   NaN   200.0   80.00  快速消费  NaN\n",
      "5    7-5  孙妮   NaN   388.0  155.20  快速消费   姣爷\n",
      "6    7-5  孙妮   NaN    40.0   40.00  快速消费   姣爷\n",
      "7    7-5  孙妮   NaN    50.0   30.00  快速消费  NaN\n",
      "8    7-5  孙妮   NaN   109.0   43.60  快速消费  曹小姐\n",
      "9    7-5  孙妮   NaN   194.0   77.60  快速消费   袁月\n",
      "10   7-6  孙妮   NaN    96.6   38.64  快速消费   丁丁\n",
      "11   7-6  孙妮   NaN   330.0  132.00  快速消费  NaN\n",
      "12   7-6  孙妮   NaN   196.0   78.40  快速消费   黄燕\n",
      "13   7-7  孙妮   NaN   294.0  117.60  快速消费  小倪姐\n",
      "14   7-7  孙妮   NaN    99.0   39.60  快速消费   刘梅\n",
      "15   7-7  孙妮   NaN   194.0   77.60  快速消费   张依\n",
      "16   7-7  孙妮   NaN    30.0   20.00  快速消费   黄潇\n",
      "17   7-7  孙妮   NaN   109.0   43.60  快速消费   黄潇\n",
      "18  7-15  孙妮   NaN   100.0   40.00  快速消费  NaN\n",
      "19  7-15  孙妮   NaN   110.0   25.00  快速消费  NaN\n",
      "20  7-15  孙妮   NaN   500.0   25.00  充值收费   凤蔚\n",
      "21  7-15  孙妮    美睫  1300.0   65.00  购买次数   凤蔚\n",
      "22  7-15  孙妮   NaN    62.0   24.80  快速消费   凤蔚\n",
      "23  7-15  孙妮   NaN   120.0   48.00  快速消费  NaN\n",
      "24  7-15  孙妮   NaN   194.0   77.60  快速消费   潘潘\n",
      "25  7-15  孙妮  暖宫艾灸    88.0    8.00  扣次消费   潘潘\n",
      "26  7-15  孙妮   NaN   294.0  117.60  快速消费   旺旺\n",
      "27  7-18  孙妮   NaN    96.6   38.64  快速消费   丁丁\n",
      "28  7-18  孙妮   NaN    99.0   30.00  快速消费   张依\n",
      "29  7-18  孙妮   NaN   303.0  121.20  快速消费   黄婷\n",
      "30  7-18  孙妮   NaN   294.0  117.60  快速消费  黄怡雯\n",
      "31  7-18  孙妮   NaN   100.0   40.00  快速消费  NaN\n",
      "32  7-18  孙妮   NaN   442.0  176.80  快速消费   姣爷\n",
      "33  7-20  孙妮   NaN   119.0   47.60  快速消费   王敏\n",
      "34  7-20  孙妮   NaN   165.0   50.00  快速消费  王丹婧\n",
      "35  7-20  孙妮   NaN   220.0   88.00  快速消费  NaN\n",
      "36  7-20  孙妮   NaN   300.0   15.00  充值收费  张玉华\n",
      "37  7-20  孙妮   NaN    80.0   32.00  快速消费  张玉华\n",
      "38  7-29  孙妮   NaN   129.0   51.60  快速消费  于芈亿\n",
      "39  7-29  孙妮   NaN   350.0  125.00  快速消费  NaN\n",
      "40  7-30  孙妮   NaN  1000.0   50.00  充值收费   陈菊\n",
      "41  7-30  孙妮   NaN    16.0    6.40  快速消费   陈菊\n",
      "42  7-30  孙妮   NaN   142.4   25.00  快速消费  张爱萍\n",
      "2763.48\n",
      "邵红梅\n",
      "      时间   员工      名称      支付     提成  提成类型   姓名\n",
      "43   7-5  邵红梅     NaN    30.0  12.00  快速消费  NaN\n",
      "44   7-6  邵红梅    暖宫艾灸    88.0   8.00  扣次消费  沈慧仙\n",
      "45   7-7  邵红梅     NaN    79.0  31.60  快速消费   刘梅\n",
      "46  7-15  邵红梅     NaN   110.0  19.00  快速消费  NaN\n",
      "47  7-18  邵红梅     NaN    99.0   9.60  快速消费   张依\n",
      "48  7-20  邵红梅    暖宫艾灸    88.0   8.00  扣次消费  沈慧仙\n",
      "49  7-20  邵红梅     NaN   165.0  15.00  快速消费  王丹婧\n",
      "50  7-29  邵红梅    精油开背   880.0  44.00  购买次数  刘红贵\n",
      "51  7-29  邵红梅  皮肤清洁护理  1980.0  99.00  购买次数  刘红贵\n",
      "52  7-29  邵红梅     NaN   350.0  15.00  快速消费  NaN\n",
      "53  7-30  邵红梅     NaN   142.4  31.93  快速消费  张爱萍\n",
      "293.13\n",
      "黄晴\n",
      "      时间  员工      名称     支付    提成  提成类型   姓名\n",
      "54   7-5  黄晴    精油开背   88.0  30.0  扣次消费   婷婷\n",
      "55   7-7  黄晴     NaN  180.0  72.0  快速消费  NaN\n",
      "56   7-7  黄晴    暖宫艾灸   88.0   8.0  扣次消费   婷婷\n",
      "57   7-7  黄晴    精油开背   88.0  30.0  扣次消费   婷婷\n",
      "58   7-7  黄晴    精油开背   88.0  30.0  扣次消费   张依\n",
      "59  7-20  黄晴     NaN  128.0  30.0  快速消费  NaN\n",
      "60  7-20  黄晴    暖宫艾灸   88.0   8.0  扣次消费   婷婷\n",
      "61  7-20  黄晴    精油开背   88.0  30.0  扣次消费   婷婷\n",
      "62  7-20  黄晴     NaN  200.0  30.0  快速消费  NaN\n",
      "63  7-29  黄晴    精油开背   88.0  30.0  扣次消费  刘红贵\n",
      "64  7-29  黄晴  皮肤清洁护理  132.0  30.0  扣次消费  刘红贵\n",
      "65  7-29  黄晴    暖宫艾灸   88.0   8.0  扣次消费   潘潘\n",
      "336.0\n",
      "{'孙妮_提成': 2763.48, '邵红梅_提成': 293.13, '黄晴_提成': 336.0, '总提成': 3392.6099999999997}\n"
     ]
    },
    {
     "name": "stderr",
     "output_type": "stream",
     "text": [
      "/Users/mtdp/opt/anaconda3/lib/python3.7/site-packages/ipykernel_launcher.py:63: SettingWithCopyWarning: \n",
      "A value is trying to be set on a copy of a slice from a DataFrame.\n",
      "Try using .loc[row_indexer,col_indexer] = value instead\n",
      "\n",
      "See the caveats in the documentation: https://pandas.pydata.org/pandas-docs/stable/user_guide/indexing.html#returning-a-view-versus-a-copy\n"
     ]
    }
   ],
   "source": [
    "bill.get_employee_commission()"
   ]
  },
  {
   "cell_type": "code",
   "execution_count": 55,
   "metadata": {},
   "outputs": [],
   "source": [
    "des_sum = bill.get_recharge_detail()"
   ]
  },
  {
   "cell_type": "code",
   "execution_count": 56,
   "metadata": {},
   "outputs": [
    {
     "data": {
      "text/plain": [
       "'累计充值：5960.0,各个会员充值情况如下\\n==============================\\n刘红贵(60028):累计充值2860元\\n明细如下:\\n购买次数:880,时间:7-29\\n购买次数:1980,时间:7-29\\n==============================\\n张玉华(60039):累计充值300元\\n明细如下:\\n充值收费:300,时间:7-20\\n==============================\\n凤蔚(60079):累计充值1800元\\n明细如下:\\n购买次数:1300,时间:7-15\\n充值收费:500,时间:7-15\\n==============================\\n陈菊(60080):累计充值1000元\\n明细如下:\\n充值收费:1000,时间:7-30\\n==============================\\n'"
      ]
     },
     "execution_count": 56,
     "metadata": {},
     "output_type": "execute_result"
    }
   ],
   "source": [
    "des_sum"
   ]
  },
  {
   "cell_type": "code",
   "execution_count": 57,
   "metadata": {},
   "outputs": [],
   "source": [
    "des_not_member = bill.get_nomember_detail()"
   ]
  },
  {
   "cell_type": "code",
   "execution_count": 58,
   "metadata": {},
   "outputs": [
    {
     "data": {
      "text/plain": [
       "2218.0"
      ]
     },
     "execution_count": 58,
     "metadata": {},
     "output_type": "execute_result"
    }
   ],
   "source": [
    "des_not_member"
   ]
  },
  {
   "cell_type": "code",
   "execution_count": 59,
   "metadata": {},
   "outputs": [
    {
     "name": "stdout",
     "output_type": "stream",
     "text": [
      "WARNING *** OLE2 inconsistency: SSCS size is 0 but SSAT size is non-zero\n"
     ]
    }
   ],
   "source": [
    "bills  = []\n",
    "bills.append(Bill(2020, 3))\n",
    "bills.append(Bill(2020, 4))\n",
    "bills.append(Bill(2020, 5))"
   ]
  },
  {
   "cell_type": "code",
   "execution_count": 60,
   "metadata": {},
   "outputs": [
    {
     "name": "stdout",
     "output_type": "stream",
     "text": [
      "总收入: 7392\n",
      "充值总收入: 5999\n",
      "充次总收入: 1999\n",
      "孙妮\n",
      "      时间  员工    名称   支付     提成  提成类型   姓名\n",
      "11  3-20  孙妮   NaN   99   39.6  快速消费  小米粥\n",
      "16  3-22  孙妮   NaN  230   92.0  快速消费  NaN\n",
      "19  3-23  孙妮   NaN  388  155.2  快速消费  NaN\n",
      "22  3-24  孙妮   NaN  263  105.2  快速消费   姣爷\n",
      "24  3-24  孙妮   NaN  294  117.6  快速消费   小郭\n",
      "27  3-26  孙妮   NaN  363  145.2  快速消费  小倪姐\n",
      "28  3-26  孙妮  暖宫艾灸   88    8.0  扣次消费   潘潘\n",
      "30  3-27  孙妮   NaN  194   77.6  快速消费   徐梅\n",
      "31  3-27  孙妮   NaN  100   40.0  快速消费  NaN\n",
      "32  3-27  孙妮   NaN  194   77.6  快速消费   潘潘\n",
      "858.0\n",
      "邵红梅\n",
      "      时间   员工    名称    支付    提成  提成类型   姓名\n",
      "4   3-16  邵红梅   NaN    69  27.6  快速消费   刘梅\n",
      "5   3-19  邵红梅  精油开背    88   8.0  扣次消费  沈慧仙\n",
      "20  3-23  邵红梅  暖宫艾灸    88   8.0  扣次消费   袁月\n",
      "26  3-26  邵红梅   NaN  1000  50.0  充值收费   潘潘\n",
      "93.6\n",
      "黄晴\n",
      "      时间  员工      名称    支付    提成  提成类型   姓名\n",
      "0    3-3  黄晴    精油开背  1000  50.0  购买次数  小霸王\n",
      "1    3-3  黄晴    精油开背    88  30.0  扣次消费  小霸王\n",
      "2   3-16  黄晴  皮肤清洁护理   132  30.0  扣次消费  刘红贵\n",
      "3   3-16  黄晴    精油开背    88  30.0  扣次消费  刘红贵\n",
      "6   3-19  黄晴    精油开背    88  30.0  扣次消费  刘红贵\n",
      "7   3-19  黄晴  皮肤清洁护理   132  30.0  扣次消费  刘红贵\n",
      "8   3-19  黄晴    暖宫艾灸    88   8.0  扣次消费  沈慧仙\n",
      "9   3-19  黄晴     冻干粉   188  20.0  消费收银  NaN\n",
      "10  3-19  黄晴     NaN   168  30.0  快速消费  NaN\n",
      "12  3-20  黄晴     NaN   999  49.0  开户收费   徐梅\n",
      "13  3-20  黄晴  皮肤清洁护理   132  30.0  扣次消费   徐梅\n",
      "14  3-20  黄晴    暖宫艾灸    88   8.0  扣次消费   徐梅\n",
      "15  3-20  黄晴    暖宫艾灸    88   8.0  扣次消费   潘潘\n",
      "17  3-22  黄晴  皮肤清洁护理   132  30.0  扣次消费   徐梅\n",
      "18  3-23  黄晴    暖宫艾灸    88   8.0  扣次消费  沈慧仙\n",
      "21  3-24  黄晴     NaN  1000  50.0  充值收费   姣爷\n",
      "23  3-24  黄晴     NaN   180  54.0  快速消费  NaN\n",
      "25  3-24  黄晴    暖宫艾灸    88   8.0  扣次消费   潘潘\n",
      "29  3-27  黄晴     NaN  1000  50.0  充值收费   徐梅\n",
      "33  3-19  黄晴     NaN  1000  50.0  充值收费  小米粥\n",
      "603.0\n",
      "{'孙妮_提成': 858.0, '邵红梅_提成': 93.6, '黄晴_提成': 603.0, '总提成': 1554.6}\n",
      "{'孙妮_提成': 858.0, '邵红梅_提成': 93.6, '黄晴_提成': 603.0, '总提成': 1554.6}\n",
      "总收入: 4110\n",
      "充值总收入: 3500\n",
      "充次总收入: 0\n",
      "孙妮\n",
      "      时间  员工    名称    支付     提成  提成类型   姓名\n",
      "0    4-1  孙妮   NaN   500   25.0  充值收费   黄婷\n",
      "1    4-1  孙妮   NaN   194   77.6  快速消费   黄婷\n",
      "2    4-1  孙妮   NaN   182   39.5  快速消费  小米粥\n",
      "3    4-3  孙妮  暖宫艾灸    88    8.0  扣次消费   潘潘\n",
      "4    4-6  孙妮  暖宫艾灸    88    8.0  扣次消费   潘潘\n",
      "5   4-10  孙妮   NaN    69   27.6  快速消费   黄婷\n",
      "6   4-10  孙妮   NaN   194   77.6  快速消费   张依\n",
      "7   4-10  孙妮   NaN   194   77.6  快速消费   刘梅\n",
      "8   4-13  孙妮   NaN   194   77.6  快速消费   姣爷\n",
      "9   4-13  孙妮   NaN   100   40.0  快速消费  NaN\n",
      "10  4-14  孙妮   NaN    69   27.6  快速消费   刘梅\n",
      "11  4-14  孙妮   NaN    20    8.0  快速消费  NaN\n",
      "12  4-14  孙妮  暖宫艾灸    88    8.0  扣次消费   潘潘\n",
      "13  4-29  孙妮   NaN  1000   50.0  开户收费   王敏\n",
      "14  4-29  孙妮   NaN    53   21.2  快速消费   王敏\n",
      "15  4-29  孙妮   NaN  1000   50.0  充值收费  小倪姐\n",
      "16  4-29  孙妮   NaN   294  117.6  快速消费   小郭\n",
      "17  4-29  孙妮   NaN  1000   50.0  开户收费  王丹婧\n",
      "18  4-29  孙妮   NaN   149   59.6  快速消费  王丹婧\n",
      "19  4-29  孙妮   NaN   230   92.0  快速消费  NaN\n",
      "20  4-29  孙妮   NaN    80   32.0  快速消费  NaN\n",
      "21  4-29  孙妮   NaN    80   32.0  快速消费  NaN\n",
      "22  4-29  孙妮   NaN   194   77.6  快速消费   潘潘\n",
      "23  4-30  孙妮   NaN   164   65.6  快速消费  蒋丽红\n",
      "24  4-30  孙妮   NaN   100   40.0  快速消费  NaN\n",
      "1189.6999999999998\n",
      "邵红梅\n",
      "      时间   员工      名称   支付    提成  提成类型   姓名\n",
      "25   4-1  邵红梅     NaN  182  41.2  快速消费  小米粥\n",
      "26  4-29  邵红梅    精油开背   88  30.0  扣次消费  刘红贵\n",
      "27  4-29  邵红梅  皮肤清洁护理  132  30.0  扣次消费  刘红贵\n",
      "101.2\n",
      "黄晴\n",
      "      时间  员工    名称  支付    提成  提成类型   姓名\n",
      "28  4-10  黄晴  精油开背  88  30.0  扣次消费   张依\n",
      "29  4-29  黄晴  精油开背  88  30.0  扣次消费  沈慧仙\n",
      "30  4-29  黄晴  暖宫艾灸  88   8.0  扣次消费  沈慧仙\n",
      "31  4-29  黄晴  暖宫艾灸  88   8.0  扣次消费   潘潘\n",
      "76.0\n",
      "{'孙妮_提成': 1189.6999999999998, '邵红梅_提成': 101.2, '黄晴_提成': 76.0, '总提成': 1366.9}\n",
      "{'孙妮_提成': 1189.6999999999998, '邵红梅_提成': 101.2, '黄晴_提成': 76.0, '总提成': 1366.9}\n",
      "总收入: 3358\n",
      "充值总收入: 2500\n",
      "充次总收入: 0\n",
      "孙妮\n",
      "      时间  员工    名称    支付     提成  提成类型   姓名\n",
      "0    5-5  孙妮   NaN   300  120.0  快速消费  NaN\n",
      "1    5-5  孙妮   NaN   200   80.0  快速消费  张玉华\n",
      "2    5-5  孙妮   NaN   194   77.6  快速消费   张依\n",
      "3    5-5  孙妮   NaN   294  117.6  快速消费  小倪姐\n",
      "6    5-5  孙妮   NaN   194   77.6  快速消费  NaN\n",
      "7    5-5  孙妮   NaN   293  117.2  快速消费   黄潇\n",
      "11   5-6  孙妮   NaN   232   92.8  快速消费   姣爷\n",
      "12   5-7  孙妮   NaN   114   45.6  快速消费   徐梅\n",
      "15  5-11  孙妮    美睫   194  104.0  扣次消费  郭燕萍\n",
      "17  5-27  孙妮   NaN   149   59.6  快速消费   姣爷\n",
      "18  5-28  孙妮   NaN   423  169.2  快速消费  王丹婧\n",
      "19  5-28  孙妮   NaN   178   71.2  快速消费   褚娟\n",
      "20  5-28  孙妮   NaN  1000   50.0  充值收费  小倪姐\n",
      "21  5-28  孙妮   NaN   294  117.6  快速消费  小倪姐\n",
      "24  5-28  孙妮   NaN   188   75.2  快速消费  NaN\n",
      "25  5-28  孙妮   NaN    88   35.2  快速消费  NaN\n",
      "26  5-31  孙妮   NaN    99   39.6  快速消费   徐梅\n",
      "29  5-31  孙妮   NaN   119   47.6  快速消费  小米粥\n",
      "30  5-31  孙妮   NaN   500   25.0  开户收费  顾晓唯\n",
      "31  5-31  孙妮   NaN   120   48.0  快速消费  顾晓唯\n",
      "32  5-31  孙妮   NaN    69   27.6  快速消费   王敏\n",
      "37  5-31  孙妮   NaN    69   27.6  快速消费   袁月\n",
      "39  5-31  孙妮  暖宫艾灸    88    8.0  扣次消费   袁月\n",
      "1633.7999999999997\n",
      "邵红梅\n",
      "      时间   员工      名称   支付    提成  提成类型   姓名\n",
      "8    5-5  邵红梅  皮肤清洁护理  132  30.0  扣次消费  刘红贵\n",
      "22  5-28  邵红梅    暖宫艾灸   88   8.0  扣次消费   袁月\n",
      "23  5-28  邵红梅    暖宫艾灸   88   8.0  扣次消费   潘潘\n",
      "46.0\n",
      "黄晴\n",
      "      时间  员工      名称    支付    提成  提成类型   姓名\n",
      "4    5-5  黄晴    暖宫艾灸    88   8.0  扣次消费  小倪姐\n",
      "5    5-5  黄晴    精油开背    88  30.0  扣次消费   张依\n",
      "9    5-6  黄晴    精油开背    88  30.0  扣次消费  连季平\n",
      "10   5-6  黄晴     NaN    18  18.0  快速消费   姣爷\n",
      "13   5-8  黄晴    精油开背    88  30.0  扣次消费  刘红贵\n",
      "14   5-8  黄晴  皮肤清洁护理   132  30.0  扣次消费  刘红贵\n",
      "16  5-27  黄晴     NaN  1000  50.0  充值收费   姣爷\n",
      "27  5-31  黄晴  皮肤清洁护理   132  30.0  扣次消费   徐梅\n",
      "28  5-31  黄晴    暖宫艾灸    88   8.0  扣次消费   徐梅\n",
      "33  5-31  黄晴    暖宫艾灸    88   8.0  扣次消费   潘潘\n",
      "34  5-31  黄晴    精油开背    88  30.0  扣次消费  沈慧仙\n",
      "35  5-31  黄晴    暖宫艾灸    88   8.0  扣次消费  沈慧仙\n",
      "36  5-31  黄晴    暖宫艾灸    88   8.0  扣次消费   袁月\n",
      "38  5-31  黄晴    暖宫艾灸    88   8.0  扣次消费   袁月\n",
      "40  5-31  黄晴     NaN    88  35.2  快速消费  NaN\n",
      "331.2\n",
      "{'孙妮_提成': 1633.7999999999997, '邵红梅_提成': 46.0, '黄晴_提成': 331.2, '总提成': 2010.9999999999998}\n",
      "{'孙妮_提成': 1633.7999999999997, '邵红梅_提成': 46.0, '黄晴_提成': 331.2, '总提成': 2010.9999999999998}\n"
     ]
    },
    {
     "name": "stderr",
     "output_type": "stream",
     "text": [
      "/Users/mtdp/opt/anaconda3/lib/python3.7/site-packages/ipykernel_launcher.py:63: SettingWithCopyWarning: \n",
      "A value is trying to be set on a copy of a slice from a DataFrame.\n",
      "Try using .loc[row_indexer,col_indexer] = value instead\n",
      "\n",
      "See the caveats in the documentation: https://pandas.pydata.org/pandas-docs/stable/user_guide/indexing.html#returning-a-view-versus-a-copy\n",
      "/Users/mtdp/opt/anaconda3/lib/python3.7/site-packages/ipykernel_launcher.py:63: SettingWithCopyWarning: \n",
      "A value is trying to be set on a copy of a slice from a DataFrame.\n",
      "Try using .loc[row_indexer,col_indexer] = value instead\n",
      "\n",
      "See the caveats in the documentation: https://pandas.pydata.org/pandas-docs/stable/user_guide/indexing.html#returning-a-view-versus-a-copy\n",
      "/Users/mtdp/opt/anaconda3/lib/python3.7/site-packages/ipykernel_launcher.py:63: SettingWithCopyWarning: \n",
      "A value is trying to be set on a copy of a slice from a DataFrame.\n",
      "Try using .loc[row_indexer,col_indexer] = value instead\n",
      "\n",
      "See the caveats in the documentation: https://pandas.pydata.org/pandas-docs/stable/user_guide/indexing.html#returning-a-view-versus-a-copy\n"
     ]
    }
   ],
   "source": [
    "rows = []\n",
    "for bill in bills:\n",
    "    row = {}\n",
    "    bill.get_total_income()\n",
    "    row['月份'] = bill.mon\n",
    "    row['总收入'] = bill.total_income\n",
    "    row['充值总收入'] = bill.total_recharge\n",
    "    row['散客消费总收入'] = bill.get_nomember_detail()\n",
    "    bill.get_employee_commission()\n",
    "    print(bill.commision_detail)\n",
    "    for k in  bill.commision_detail:\n",
    "        row[k] = bill.commision_detail[k]\n",
    "    rows.append(row)"
   ]
  },
  {
   "cell_type": "code",
   "execution_count": 61,
   "metadata": {},
   "outputs": [
    {
     "data": {
      "text/plain": [
       "[{'月份': 3,\n",
       "  '总收入': 7392,\n",
       "  '充值总收入': 5999,\n",
       "  '散客消费总收入': 1393,\n",
       "  '孙妮_提成': 858.0,\n",
       "  '邵红梅_提成': 93.6,\n",
       "  '黄晴_提成': 603.0,\n",
       "  '总提成': 1554.6},\n",
       " {'月份': 4,\n",
       "  '总收入': 4110,\n",
       "  '充值总收入': 3500,\n",
       "  '散客消费总收入': 610,\n",
       "  '孙妮_提成': 1189.6999999999998,\n",
       "  '邵红梅_提成': 101.2,\n",
       "  '黄晴_提成': 76.0,\n",
       "  '总提成': 1366.9},\n",
       " {'月份': 5,\n",
       "  '总收入': 3358,\n",
       "  '充值总收入': 2500,\n",
       "  '散客消费总收入': 858,\n",
       "  '孙妮_提成': 1633.7999999999997,\n",
       "  '邵红梅_提成': 46.0,\n",
       "  '黄晴_提成': 331.2,\n",
       "  '总提成': 2010.9999999999998}]"
      ]
     },
     "execution_count": 61,
     "metadata": {},
     "output_type": "execute_result"
    }
   ],
   "source": [
    "rows"
   ]
  },
  {
   "cell_type": "code",
   "execution_count": 62,
   "metadata": {},
   "outputs": [],
   "source": [
    "result = pd.DataFrame(rows)"
   ]
  },
  {
   "cell_type": "code",
   "execution_count": 63,
   "metadata": {},
   "outputs": [],
   "source": [
    "result.to_excel('季度收入汇总表.xlsx',index=False)"
   ]
  },
  {
   "cell_type": "code",
   "execution_count": null,
   "metadata": {},
   "outputs": [],
   "source": []
  },
  {
   "cell_type": "code",
   "execution_count": null,
   "metadata": {},
   "outputs": [],
   "source": []
  },
  {
   "cell_type": "code",
   "execution_count": null,
   "metadata": {},
   "outputs": [],
   "source": []
  },
  {
   "cell_type": "code",
   "execution_count": null,
   "metadata": {},
   "outputs": [],
   "source": []
  },
  {
   "cell_type": "code",
   "execution_count": null,
   "metadata": {},
   "outputs": [],
   "source": []
  },
  {
   "cell_type": "code",
   "execution_count": null,
   "metadata": {},
   "outputs": [],
   "source": []
  }
 ],
 "metadata": {
  "kernelspec": {
   "display_name": "Python 3",
   "language": "python",
   "name": "python3"
  },
  "language_info": {
   "codemirror_mode": {
    "name": "ipython",
    "version": 3
   },
   "file_extension": ".py",
   "mimetype": "text/x-python",
   "name": "python",
   "nbconvert_exporter": "python",
   "pygments_lexer": "ipython3",
   "version": "3.7.4"
  }
 },
 "nbformat": 4,
 "nbformat_minor": 2
}
