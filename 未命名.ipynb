{
 "cells": [
  {
   "cell_type": "code",
   "execution_count": 1,
   "metadata": {},
   "outputs": [],
   "source": [
    "import pandas as pd\n",
    "import xlrd\n",
    "import os\n",
    "from collections import defaultdict"
   ]
  },
  {
   "cell_type": "code",
   "execution_count": 2,
   "metadata": {},
   "outputs": [],
   "source": [
    "from PyPDF2 import PdfFileReader,PdfFileWriter"
   ]
  },
  {
   "cell_type": "code",
   "execution_count": 355,
   "metadata": {},
   "outputs": [],
   "source": [
    "class Bill:\n",
    "    def __init__(self, year, mon):\n",
    "        self.year = year\n",
    "        self.mon = mon\n",
    "        self.sell_file = self.get_sell_file()\n",
    "        content = xlrd.open_workbook(filename=self.sell_file,encoding_override='gbk')\n",
    "        self.sell_df = pd.read_excel(content)\n",
    "        self.commission_file = self.get_commission_file()\n",
    "        content = xlrd.open_workbook(filename=self.commission_file,encoding_override='gbk')\n",
    "        self.commission_df = pd.read_excel(content)\n",
    "        #self.sell_df = pd.read_excel(self.sell_file,encoding='gbk')\n",
    "    def gen_path(self, filename):\n",
    "        return  './data/{0}_{1:02d}/{2}'.format(self.year, self.mon,filename)\n",
    "    def get_sell_file(self):\n",
    "        return self.gen_path('销售单据表.xls')\n",
    "    def get_commission_file(self):\n",
    "        return self.gen_path('提成明细表.xls')\n",
    "    def get_total_income(self):\n",
    "        #总收入\n",
    "        self.total_income = 0\n",
    "        #充值总收入\n",
    "        self.total_recharge = 0\n",
    "        #充次总收入\n",
    "        self.total_time_recharge = 0\n",
    "        for index, row in self.sell_df.iterrows():\n",
    "            income_sf = row['实付']\n",
    "            income_czk = row['储值卡']\n",
    "            self.total_income += row['实付'] - row['储值卡']\n",
    "            if row['单据类型'] == '购买次数':\n",
    "                self.total_time_recharge += row['实付']\n",
    "            if row['单据类型'] == '购买次数' or row['单据类型'] == '充值收费' or row['单据类型']=='开户收费':\n",
    "                self.total_recharge += row['实付'] - row['储值卡']\n",
    "        print(self.total_income)\n",
    "        print(self.total_recharge)\n",
    "        print(self.total_time_recharge)\n",
    "    def get_true_income(self):\n",
    "        # 实际项目总收入（会员+非会员）\n",
    "        self.true_income = 0\n",
    "        true_income_types = ['消费收银','快速消费']\n",
    "        #会员实际项目总收入\n",
    "        self.member_true_income = 0\n",
    "        for index, row in self.sell_df.iterrows():\n",
    "            if row['单据类型'] in true_income_types:\n",
    "                if not pd.isnull(row['会员类型']):\n",
    "                    self.member_true_income += row['实付']\n",
    "                self.true_income += row['实付']\n",
    "        print(self.member_true_income)\n",
    "        print(self.true_income)\n",
    "        \n",
    "        #实际扣次项目\n",
    "        self.true_time_dic = defaultdict(int)\n",
    "        for index, row in self.commission_df.iterrows():\n",
    "            if row['提成类型'] == '扣次消费':\n",
    "                self.true_time_dic[row['名称']] += 1\n",
    "        print(self.true_time_dic)\n",
    "    def get_employee_commission(self):\n",
    "        tmp_commission = self.commission_df.copy()\n",
    "        selected_df = tmp_commission[['时间','员工','名称','支付','提成']]\n",
    "        selected_df['时间'] = selected_df['时间'].apply(lambda x:'{0}-{1}'.format(x.month, x.day))\n",
    "        for employee, df in selected_df.groupby(['员工']):\n",
    "            print(employee)\n",
    "            print(df)\n",
    "            df = df[['时间','名称','支付','提成']]\n",
    "            print(df['提成'].sum())\n",
    "            df.to_csv(self.gen_path('{0}.csv'.format(employee)),index=False,encoding='gbk')\n",
    "    def get_recharge_detail(self):\n",
    "        tmp_df = self.sell_df.copy()\n",
    "        recharge_df = tmp_df[tmp_df['单据类型'].isin(set(['购买次数','充值收费','开户收费']))]\n",
    "        recharge_df = recharge_df[['单据类型','时间','实付','储值卡','会员姓名','会员卡号']]\n",
    "        total_recharge = recharge_df['实付'].sum()-recharge_df['储值卡'].sum()\n",
    "        des_sum = '累计充值：{0},各个会员充值情况如下\\n'.format(total_recharge)\n",
    "        des_sum += '==============================\\n'\n",
    "        for name, df in recharge_df.groupby(['会员卡号']):\n",
    "            s = 0\n",
    "            des = '{0}({1:d}):累计充值{2}元\\n'.format(df.iloc[0]['会员姓名'],int(name),int(df['实付'].sum()-df['储值卡'].sum()))\n",
    "            des_sum += des\n",
    "            #print('{0}:{1}'.format(name,df['实付'].sum()-df['储值卡'].sum()))\n",
    "            total_recharge += df['实付'].sum()-df['储值卡'].sum()\n",
    "            s += df['实付'].sum()-df['储值卡'].sum()\n",
    "            des = '明细如下:\\n'\n",
    "            df = df.sort_values(by=['单据类型'],ascending=False)\n",
    "\n",
    "            for index, row in df.iterrows():\n",
    "                if row['单据类型'] == '购买次数' and row['实付']>0:\n",
    "                    des = des + '购买次数:' + str(int((row['实付']))) + ',时间:' + (str(row['时间'].month) + '-' + str(row['时间'].day))+'\\n'\n",
    "                    s -= row['实付']\n",
    "                if row['单据类型'] == '充值收费' and s > 0:\n",
    "                    des = des + '充值收费:' + str((int(row['实付']))) + ',时间:' + (str(row['时间'].month) + '-' + str(row['时间'].day))+'\\n'\n",
    "                    s -= row['实付']\n",
    "                if row['单据类型'] == '开户收费' and s > 0:\n",
    "                    des = des + '开户收费:' + str((int(row['实付']))) + ',时间:' + (str(row['时间'].month) + '-' + str(row['时间'].day))+'\\n'\n",
    "                    s -= row['实付']\n",
    "            #print(des)\n",
    "            des_sum += des\n",
    "            des_sum += '==============================\\n'\n",
    "            f = open(self.gen_path('会员充值明细_{0}_{1}.txt'.format(self.year,self.mon)),'w')\n",
    "            f.write(des_sum)\n",
    "            f.close()\n",
    "        return des_sum\n",
    "    def get_nomember_detail(self):\n",
    "        tmp_df = self.sell_df.copy()\n",
    "        tmp_df['not_member'] = tmp_df['会员卡号'].apply(lambda x:pd.isnull(x))\n",
    "        nomember_detail_df = tmp_df[tmp_df['not_member']]\n",
    "        nomember_detail_df = nomember_detail_df[['单据类型','实付','时间']]\n",
    "        #print(nomember_detail_df)\n",
    "        des_not_member = ''\n",
    "        des_not_member += '散客累计消费:{0}\\n明细如下：\\n'.format(nomember_detail_df['实付'].sum())\n",
    "        for index, row in nomember_detail_df.iterrows():\n",
    "            des_not_member += '{0}:'.format(row['单据类型']) + str((int(row['实付']))) + ',时间:' + (str(row['时间'].month) + '-' + str(row['时间'].day))+'\\n'\n",
    "        f = open(self.gen_path('散客消费明细_{0}_{1}.txt'.format(self.year,self.mon)),'w')\n",
    "        f.write(des_not_member)\n",
    "        f.close()\n",
    "        return des_not_member"
   ]
  },
  {
   "cell_type": "code",
   "execution_count": 356,
   "metadata": {},
   "outputs": [],
   "source": [
    "bill = Bill(2020, 1)"
   ]
  },
  {
   "cell_type": "code",
   "execution_count": 357,
   "metadata": {},
   "outputs": [
    {
     "data": {
      "text/plain": [
       "'./data/2020_01/销售单据表.xls'"
      ]
     },
     "execution_count": 357,
     "metadata": {},
     "output_type": "execute_result"
    }
   ],
   "source": [
    "bill.get_sell_file()"
   ]
  },
  {
   "cell_type": "code",
   "execution_count": 358,
   "metadata": {},
   "outputs": [
    {
     "name": "stdout",
     "output_type": "stream",
     "text": [
      "8149.5199999999995\n",
      "17586.52\n",
      "defaultdict(<class 'int'>, {'暖宫艾灸': 16, '精油开背': 3, '皮肤清洁护理': 3, '美睫': 1})\n"
     ]
    }
   ],
   "source": [
    "bill.get_true_income()"
   ]
  },
  {
   "cell_type": "code",
   "execution_count": 359,
   "metadata": {},
   "outputs": [
    {
     "data": {
      "text/plain": [
       "'./data/2020_01/销售单据表.xls'"
      ]
     },
     "execution_count": 359,
     "metadata": {},
     "output_type": "execute_result"
    }
   ],
   "source": [
    "bill.sell_file"
   ]
  },
  {
   "cell_type": "code",
   "execution_count": 360,
   "metadata": {},
   "outputs": [
    {
     "name": "stdout",
     "output_type": "stream",
     "text": [
      "30377.0\n",
      "20940.0\n",
      "6160.0\n"
     ]
    }
   ],
   "source": [
    "bill.get_total_income()"
   ]
  },
  {
   "cell_type": "code",
   "execution_count": 361,
   "metadata": {},
   "outputs": [
    {
     "data": {
      "text/plain": [
       "'./data/2020_01/提成明细表.xls'"
      ]
     },
     "execution_count": 361,
     "metadata": {},
     "output_type": "execute_result"
    }
   ],
   "source": [
    "bill.commission_file"
   ]
  },
  {
   "cell_type": "code",
   "execution_count": 362,
   "metadata": {},
   "outputs": [
    {
     "name": "stdout",
     "output_type": "stream",
     "text": [
      "孙妮\n",
      "       时间  员工    名称       支付      提成\n",
      "1    1-15  孙妮   NaN   496.00  143.20\n",
      "3    1-22  孙妮   NaN  1000.00   50.00\n",
      "4    1-22  孙妮   NaN   888.00  355.20\n",
      "5    1-22  孙妮   NaN  1000.00   50.00\n",
      "6    1-22  孙妮   NaN   500.00   25.00\n",
      "8    1-22  孙妮   NaN   263.20   46.00\n",
      "9    1-21  孙妮   NaN  1000.00   50.00\n",
      "10   1-21  孙妮   NaN  1000.00   50.00\n",
      "11   1-21  孙妮   NaN    28.00   11.20\n",
      "12   1-21  孙妮   NaN  1000.00   50.00\n",
      "13   1-21  孙妮   NaN   269.00  107.60\n",
      "14   1-18  孙妮   NaN  1000.00   50.00\n",
      "15   1-18  孙妮   NaN   252.00  100.80\n",
      "16   1-18  孙妮   NaN   300.00   12.00\n",
      "17   1-18  孙妮   NaN    62.00   24.80\n",
      "21   1-15  孙妮   NaN  1000.00   25.00\n",
      "23   1-15  孙妮   NaN   311.00  124.40\n",
      "24   1-13  孙妮    美睫  1300.00   65.00\n",
      "25   1-13  孙妮   NaN  1000.00   50.00\n",
      "27   1-13  孙妮   NaN   306.50   93.20\n",
      "29   1-12  孙妮   NaN  1000.00   25.00\n",
      "31   1-12  孙妮   NaN   526.00  182.80\n",
      "32   1-22  孙妮   NaN    60.00   24.00\n",
      "34   1-22  孙妮   NaN    60.00   24.00\n",
      "35   1-11  孙妮   NaN   500.00   50.00\n",
      "36   1-11  孙妮   NaN    67.20   26.88\n",
      "37   1-11  孙妮   NaN   149.10   59.64\n",
      "38   1-17  孙妮   NaN   500.00   25.00\n",
      "40   1-17  孙妮   NaN   356.02   87.20\n",
      "48    1-9  孙妮   NaN  1000.00   50.00\n",
      "..    ...  ..   ...      ...     ...\n",
      "58   1-21  孙妮   NaN    80.00   32.00\n",
      "59   1-21  孙妮  暖宫艾灸  1000.00   50.00\n",
      "67   1-12  孙妮    美睫   194.00   77.60\n",
      "69   1-19  孙妮   NaN   138.00   55.20\n",
      "70   1-16  孙妮   NaN    69.00   27.60\n",
      "71   1-11  孙妮   NaN   194.00   40.00\n",
      "72   1-13  孙妮   NaN   300.00  120.00\n",
      "73   1-16  孙妮   NaN   828.00  331.20\n",
      "77   1-16  孙妮   NaN   638.00  255.20\n",
      "81    1-4  孙妮   NaN   230.00   92.00\n",
      "82    1-4  孙妮   NaN    20.00    8.00\n",
      "83    1-5  孙妮   NaN    34.00   13.60\n",
      "85    1-6  孙妮   NaN   176.00   70.40\n",
      "87   1-10  孙妮   NaN   230.00   92.00\n",
      "89   1-11  孙妮   NaN    68.00   27.20\n",
      "91   1-13  孙妮   NaN   135.00   54.00\n",
      "92   1-13  孙妮   NaN   218.00   70.00\n",
      "94   1-13  孙妮   NaN   160.00   64.00\n",
      "95   1-13  孙妮   NaN   138.00   55.20\n",
      "98   1-14  孙妮   NaN   320.00  128.00\n",
      "99   1-16  孙妮   NaN   138.00   55.20\n",
      "101  1-17  孙妮   NaN  1580.00   77.00\n",
      "102  1-17  孙妮   NaN   198.00   79.20\n",
      "104  1-19  孙妮   NaN   198.00   79.20\n",
      "105  1-19  孙妮   NaN   400.00  160.00\n",
      "106  1-19  孙妮   NaN   248.00   99.20\n",
      "107  1-19  孙妮   NaN   300.00  120.00\n",
      "110  1-21  孙妮   NaN    60.00   24.00\n",
      "111  1-21  孙妮   NaN    50.00   20.00\n",
      "113  1-22  孙妮   NaN   350.00  140.00\n",
      "\n",
      "[67 rows x 5 columns]\n",
      "5193.719999999999\n",
      "邵红梅\n",
      "       时间   员工      名称       支付    提成\n",
      "2    1-15  邵红梅     NaN   496.00  55.2\n",
      "7    1-22  邵红梅     NaN   263.20  59.2\n",
      "18   1-16  邵红梅     NaN  1000.00  50.0\n",
      "19   1-16  邵红梅    暖宫艾灸    88.00   8.0\n",
      "20   1-21  邵红梅    暖宫艾灸    88.00   8.0\n",
      "22   1-15  邵红梅     NaN  1000.00  25.0\n",
      "26   1-13  邵红梅     NaN   138.00  55.2\n",
      "28   1-12  邵红梅     NaN  1000.00  25.0\n",
      "30   1-12  邵红梅     NaN   526.00  28.0\n",
      "33   1-22  邵红梅    暖宫艾灸    88.00   8.0\n",
      "39   1-17  邵红梅     NaN   356.02  55.2\n",
      "41   1-10  邵红梅    精油开背   880.00  44.0\n",
      "42   1-10  邵红梅  皮肤清洁护理  1980.00  99.0\n",
      "60    1-3  邵红梅    暖宫艾灸    88.00   8.0\n",
      "61    1-4  邵红梅    暖宫艾灸    88.00   8.0\n",
      "62    1-8  邵红梅    暖宫艾灸    88.00   8.0\n",
      "64   1-13  邵红梅    暖宫艾灸    88.00   8.0\n",
      "68   1-12  邵红梅     NaN   104.00  41.6\n",
      "76   1-22  邵红梅    暖宫艾灸    88.00   8.0\n",
      "86    1-6  邵红梅     NaN    52.00  20.8\n",
      "88   1-11  邵红梅     NaN    70.00  28.0\n",
      "93   1-13  邵红梅     NaN   218.00  17.0\n",
      "96   1-13  邵红梅    暖宫艾灸     0.00   8.0\n",
      "97   1-13  邵红梅    暖宫艾灸     0.00   8.0\n",
      "103  1-18  邵红梅     NaN   100.00  40.0\n",
      "108  1-19  邵红梅     NaN   100.00  40.0\n",
      "109  1-21  邵红梅     NaN   178.00  71.2\n",
      "834.4000000000001\n",
      "黄晴\n",
      "       时间  员工      名称      支付     提成\n",
      "0    1-14  黄晴     NaN   128.0   15.0\n",
      "43   1-10  黄晴    精油开背    88.0   30.0\n",
      "44   1-10  黄晴  皮肤清洁护理   132.0   25.0\n",
      "45   1-14  黄晴    精油开背    88.0   30.0\n",
      "46   1-14  黄晴  皮肤清洁护理   132.0   30.0\n",
      "47   1-22  黄晴  皮肤清洁护理   132.0   60.0\n",
      "53   1-11  黄晴    暖宫艾灸    88.0    8.0\n",
      "54   1-19  黄晴    暖宫艾灸    88.0    8.0\n",
      "63    1-9  黄晴    暖宫艾灸    88.0    8.0\n",
      "65   1-14  黄晴    暖宫艾灸    88.0    8.0\n",
      "66   1-17  黄晴    暖宫艾灸    88.0    8.0\n",
      "74   1-30  黄晴    暖宫艾灸    88.0    8.0\n",
      "75   1-30  黄晴    暖宫艾灸    88.0    8.0\n",
      "78   1-16  黄晴    暖宫艾灸    88.0    8.0\n",
      "79    1-6  黄晴    精油开背    88.0   30.0\n",
      "80    1-2  黄晴     NaN  1500.0  600.0\n",
      "84    1-5  黄晴     NaN    34.0   13.6\n",
      "90   1-12  黄晴     NaN   188.0   75.2\n",
      "100  1-17  黄晴     NaN  1580.0  555.0\n",
      "112  1-22  黄晴     冻干粉   188.0   20.0\n",
      "114  1-30  黄晴     NaN   188.0   75.2\n",
      "115  1-30  黄晴     NaN   188.0   75.2\n",
      "116  1-30  黄晴     NaN  1000.0  400.0\n",
      "2098.2000000000003\n"
     ]
    },
    {
     "name": "stderr",
     "output_type": "stream",
     "text": [
      "/Users/fanlinpeng/anaconda3/lib/python3.7/site-packages/ipykernel_launcher.py:59: SettingWithCopyWarning: \n",
      "A value is trying to be set on a copy of a slice from a DataFrame.\n",
      "Try using .loc[row_indexer,col_indexer] = value instead\n",
      "\n",
      "See the caveats in the documentation: http://pandas.pydata.org/pandas-docs/stable/indexing.html#indexing-view-versus-copy\n"
     ]
    }
   ],
   "source": [
    "bill.get_employee_commission()"
   ]
  },
  {
   "cell_type": "code",
   "execution_count": 363,
   "metadata": {},
   "outputs": [],
   "source": [
    "des_sum = bill.get_recharge_detail()"
   ]
  },
  {
   "cell_type": "code",
   "execution_count": 364,
   "metadata": {},
   "outputs": [
    {
     "data": {
      "text/plain": [
       "'累计充值：20940.0,各个会员充值情况如下\\n==============================\\n黄婷(60006):累计充值500元\\n明细如下:\\n充值收费:500,时间:1-10\\n==============================\\n袁月(60015):累计充值1000元\\n明细如下:\\n购买次数:1000,时间:1-21\\n==============================\\n慧慧姐(60026):累计充值1000元\\n明细如下:\\n充值收费:1000,时间:1-9\\n==============================\\n褚娟(60027):累计充值1000元\\n明细如下:\\n充值收费:1000,时间:1-9\\n==============================\\n刘红贵(60028):累计充值2860元\\n明细如下:\\n购买次数:880,时间:1-10\\n购买次数:1980,时间:1-10\\n==============================\\n徐毅琼(60029):累计充值1000元\\n明细如下:\\n充值收费:500,时间:1-11\\n充值收费:500,时间:1-17\\n==============================\\n王女士(60030):累计充值500元\\n明细如下:\\n充值收费:500,时间:1-11\\n==============================\\n蔡佩君(60031):累计充值1000元\\n明细如下:\\n充值收费:1000,时间:1-12\\n==============================\\n陈芳(60032):累计充值1000元\\n明细如下:\\n充值收费:1000,时间:1-13\\n==============================\\n郭燕萍(60035):累计充值1300元\\n明细如下:\\n购买次数:1300,时间:1-13\\n==============================\\n筱蓓(60036):累计充值1000元\\n明细如下:\\n充值收费:1000,时间:1-15\\n==============================\\n婷婷(60037):累计充值1000元\\n明细如下:\\n购买次数:1000,时间:1-16\\n==============================\\n张玉华(60039):累计充值300元\\n明细如下:\\n充值收费:300,时间:1-18\\n==============================\\n小微姐(60042):累计充值1000元\\n明细如下:\\n充值收费:1000,时间:1-18\\n==============================\\n刘梅(60045):累计充值1000元\\n明细如下:\\n充值收费:1000,时间:1-21\\n==============================\\n张依(60047):累计充值1000元\\n明细如下:\\n充值收费:1000,时间:1-21\\n==============================\\n黄燕(60049):累计充值1000元\\n明细如下:\\n充值收费:1000,时间:1-21\\n==============================\\n兔子(60050):累计充值500元\\n明细如下:\\n充值收费:500,时间:1-22\\n==============================\\n蒋丽红(60051):累计充值1000元\\n明细如下:\\n充值收费:1000,时间:1-22\\n==============================\\n张丽雅(60052):累计充值1000元\\n明细如下:\\n充值收费:1000,时间:1-22\\n==============================\\n毛毛(88888):累计充值980元\\n明细如下:\\n充值收费:980,时间:1-14\\n==============================\\n'"
      ]
     },
     "execution_count": 364,
     "metadata": {},
     "output_type": "execute_result"
    }
   ],
   "source": [
    "des_sum"
   ]
  },
  {
   "cell_type": "code",
   "execution_count": 365,
   "metadata": {},
   "outputs": [],
   "source": [
    "des_not_member = bill.get_nomember_detail()"
   ]
  },
  {
   "cell_type": "code",
   "execution_count": null,
   "metadata": {},
   "outputs": [],
   "source": []
  },
  {
   "cell_type": "code",
   "execution_count": null,
   "metadata": {},
   "outputs": [],
   "source": []
  },
  {
   "cell_type": "code",
   "execution_count": null,
   "metadata": {},
   "outputs": [],
   "source": []
  },
  {
   "cell_type": "code",
   "execution_count": null,
   "metadata": {},
   "outputs": [],
   "source": []
  },
  {
   "cell_type": "code",
   "execution_count": null,
   "metadata": {},
   "outputs": [],
   "source": []
  }
 ],
 "metadata": {
  "kernelspec": {
   "display_name": "Python 3",
   "language": "python",
   "name": "python3"
  },
  "language_info": {
   "codemirror_mode": {
    "name": "ipython",
    "version": 3
   },
   "file_extension": ".py",
   "mimetype": "text/x-python",
   "name": "python",
   "nbconvert_exporter": "python",
   "pygments_lexer": "ipython3",
   "version": "3.7.3"
  }
 },
 "nbformat": 4,
 "nbformat_minor": 2
}
