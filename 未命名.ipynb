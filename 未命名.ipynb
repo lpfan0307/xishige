{
 "cells": [
  {
   "cell_type": "code",
   "execution_count": 1,
   "metadata": {},
   "outputs": [],
   "source": [
    "import pandas as pd\n",
    "import xlrd\n",
    "import os\n",
    "from collections import defaultdict"
   ]
  },
  {
   "cell_type": "code",
   "execution_count": 2,
   "metadata": {},
   "outputs": [],
   "source": [
    "#from PyPDF2 import PdfFileReader,PdfFileWriter"
   ]
  },
  {
   "cell_type": "code",
   "execution_count": 6,
   "metadata": {},
   "outputs": [
    {
     "name": "stdout",
     "output_type": "stream",
     "text": [
      "\u001b[34m2019_12\u001b[m\u001b[m/ \u001b[34m2020_01\u001b[m\u001b[m/ \u001b[34m2020_03\u001b[m\u001b[m/ \u001b[34m2020_04\u001b[m\u001b[m/\r\n"
     ]
    }
   ],
   "source": [
    "ls ./data"
   ]
  },
  {
   "cell_type": "code",
   "execution_count": 19,
   "metadata": {},
   "outputs": [],
   "source": [
    "class Bill:\n",
    "    def __init__(self, year, mon):\n",
    "        self.year = year\n",
    "        self.mon = mon\n",
    "        self.sell_file = self.get_sell_file()\n",
    "        content = xlrd.open_workbook(filename=self.sell_file,encoding_override='gbk')\n",
    "        self.sell_df = pd.read_excel(content)\n",
    "        self.commission_file = self.get_commission_file()\n",
    "        content = xlrd.open_workbook(filename=self.commission_file,encoding_override='gbk')\n",
    "        self.commission_df = pd.read_excel(content)\n",
    "        #self.sell_df = pd.read_excel(self.sell_file,encoding='gbk')\n",
    "    def gen_path(self, filename):\n",
    "        return  './data/{0}_{1:02d}/{2}'.format(self.year, self.mon,filename)\n",
    "    def get_sell_file(self):\n",
    "        return self.gen_path('销售单据表.xls')\n",
    "    def get_commission_file(self):\n",
    "        return self.gen_path('提成明细表.xls')\n",
    "    def get_total_income(self):\n",
    "        #总收入\n",
    "        self.total_income = 0\n",
    "        #充值总收入\n",
    "        self.total_recharge = 0\n",
    "        #充次总收入\n",
    "        self.total_time_recharge = 0\n",
    "        for index, row in self.sell_df.iterrows():\n",
    "            income_sf = row['实付']\n",
    "            income_czk = row['储值卡']\n",
    "            self.total_income += row['实付'] - row['储值卡']\n",
    "            if row['单据类型'] == '购买次数':\n",
    "                self.total_time_recharge += row['实付']\n",
    "            if row['单据类型'] == '购买次数' or row['单据类型'] == '充值收费' or row['单据类型']=='开户收费':\n",
    "                self.total_recharge += row['实付'] - row['储值卡']\n",
    "        print('总收入:',self.total_income)\n",
    "        print('充值总收入:',self.total_recharge)\n",
    "        print('充次总收入:',self.total_time_recharge)\n",
    "    def get_true_income(self):\n",
    "        # 实际项目总收入（会员+非会员）\n",
    "        self.true_income = 0\n",
    "        true_income_types = ['消费收银','快速消费']\n",
    "        #会员实际项目总收入\n",
    "        self.member_true_income = 0\n",
    "        for index, row in self.sell_df.iterrows():\n",
    "            if row['单据类型'] in true_income_types:\n",
    "                if not pd.isnull(row['会员类型']):\n",
    "                    self.member_true_income += row['实付']\n",
    "                self.true_income += row['实付']\n",
    "        print(self.member_true_income)\n",
    "        print(self.true_income)\n",
    "        \n",
    "        #实际扣次项目\n",
    "        self.true_time_dic = defaultdict(int)\n",
    "        for index, row in self.commission_df.iterrows():\n",
    "            if row['提成类型'] == '扣次消费':\n",
    "                self.true_time_dic[row['名称']] += 1\n",
    "        print(self.true_time_dic)\n",
    "    def get_employee_commission(self):\n",
    "        tmp_commission = self.commission_df.copy()\n",
    "        selected_df = tmp_commission[['时间','员工','名称','支付','提成','提成类型','姓名']]\n",
    "        selected_df['时间'] = selected_df['时间'].apply(lambda x:'{0}-{1}'.format(x.month, x.day))\n",
    "        for employee, df in selected_df.groupby(['员工']):\n",
    "            print(employee)\n",
    "            print(df)\n",
    "            df = df[['时间','员工','名称','提成类型','姓名','支付','提成']]\n",
    "            print(df['提成'].sum())\n",
    "            df.to_csv(self.gen_path('{0}.csv'.format(employee)),index=False,encoding='gbk')\n",
    "            df.to_excel(self.gen_path('{0}.xls'.format(employee)),index=False,encoding='gbk')\n",
    "    def get_recharge_detail(self):\n",
    "        tmp_df = self.sell_df.copy()\n",
    "        recharge_df = tmp_df[tmp_df['单据类型'].isin(set(['购买次数','充值收费','开户收费']))]\n",
    "        recharge_df = recharge_df[['单据类型','时间','实付','储值卡','会员姓名','会员卡号']]\n",
    "        total_recharge = recharge_df['实付'].sum()-recharge_df['储值卡'].sum()\n",
    "        des_sum = '累计充值：{0},各个会员充值情况如下\\n'.format(total_recharge)\n",
    "        des_sum += '==============================\\n'\n",
    "        for name, df in recharge_df.groupby(['会员卡号']):\n",
    "            s = 0\n",
    "            des = '{0}({1:d}):累计充值{2}元\\n'.format(df.iloc[0]['会员姓名'],int(name),int(df['实付'].sum()-df['储值卡'].sum()))\n",
    "            des_sum += des\n",
    "            #print('{0}:{1}'.format(name,df['实付'].sum()-df['储值卡'].sum()))\n",
    "            total_recharge += df['实付'].sum()-df['储值卡'].sum()\n",
    "            s += df['实付'].sum()-df['储值卡'].sum()\n",
    "            des = '明细如下:\\n'\n",
    "            df = df.sort_values(by=['单据类型'],ascending=False)\n",
    "\n",
    "            for index, row in df.iterrows():\n",
    "                if row['单据类型'] == '购买次数' and row['实付']>0:\n",
    "                    des = des + '购买次数:' + str(int((row['实付']))) + ',时间:' + (str(row['时间'].month) + '-' + str(row['时间'].day))+'\\n'\n",
    "                    s -= row['实付']\n",
    "                if row['单据类型'] == '充值收费' and s > 0:\n",
    "                    des = des + '充值收费:' + str((int(row['实付']))) + ',时间:' + (str(row['时间'].month) + '-' + str(row['时间'].day))+'\\n'\n",
    "                    s -= row['实付']\n",
    "                if row['单据类型'] == '开户收费' and s > 0:\n",
    "                    des = des + '开户收费:' + str((int(row['实付']))) + ',时间:' + (str(row['时间'].month) + '-' + str(row['时间'].day))+'\\n'\n",
    "                    s -= row['实付']\n",
    "            #print(des)\n",
    "            des_sum += des\n",
    "            des_sum += '==============================\\n'\n",
    "            f = open(self.gen_path('会员充值明细_{0}_{1}.txt'.format(self.year,self.mon)),'w')\n",
    "            f.write(des_sum)\n",
    "            f.close()\n",
    "        return des_sum\n",
    "    def get_nomember_detail(self):\n",
    "        tmp_df = self.sell_df.copy()\n",
    "        tmp_df['not_member'] = tmp_df['会员卡号'].apply(lambda x:pd.isnull(x))\n",
    "        nomember_detail_df = tmp_df[tmp_df['not_member']]\n",
    "        nomember_detail_df = nomember_detail_df[['单据类型','实付','时间']]\n",
    "        #print(nomember_detail_df)\n",
    "        des_not_member = ''\n",
    "        des_not_member += '散客累计消费:{0}\\n明细如下：\\n'.format(nomember_detail_df['实付'].sum())\n",
    "        for index, row in nomember_detail_df.iterrows():\n",
    "            des_not_member += '{0}:'.format(row['单据类型']) + str((int(row['实付']))) + ',时间:' + (str(row['时间'].month) + '-' + str(row['时间'].day))+'\\n'\n",
    "        f = open(self.gen_path('散客消费明细_{0}_{1}.txt'.format(self.year,self.mon)),'w')\n",
    "        f.write(des_not_member)\n",
    "        f.close()\n",
    "        return des_not_member"
   ]
  },
  {
   "cell_type": "code",
   "execution_count": 20,
   "metadata": {},
   "outputs": [
    {
     "name": "stdout",
     "output_type": "stream",
     "text": [
      "孙妮.csv                       销售单据表.xls\r\n",
      "黄晴.csv                       会员充值明细_2020_4.txt\r\n",
      "邵红梅.csv                     散客消费明细_2020_4.txt\r\n",
      "提成明细表.xls\r\n"
     ]
    }
   ],
   "source": [
    "ls ./data/2020_04/"
   ]
  },
  {
   "cell_type": "code",
   "execution_count": 21,
   "metadata": {},
   "outputs": [],
   "source": [
    "bill = Bill(2020, 4)"
   ]
  },
  {
   "cell_type": "code",
   "execution_count": 22,
   "metadata": {},
   "outputs": [
    {
     "data": {
      "text/plain": [
       "'./data/2020_04/销售单据表.xls'"
      ]
     },
     "execution_count": 22,
     "metadata": {},
     "output_type": "execute_result"
    }
   ],
   "source": [
    "bill.get_sell_file()"
   ]
  },
  {
   "cell_type": "code",
   "execution_count": 23,
   "metadata": {},
   "outputs": [
    {
     "name": "stdout",
     "output_type": "stream",
     "text": [
      "2538\n",
      "3148\n",
      "defaultdict(<class 'int'>, {'暖宫艾灸': 5, '精油开背': 3, '皮肤清洁护理': 1})\n"
     ]
    }
   ],
   "source": [
    "bill.get_true_income()"
   ]
  },
  {
   "cell_type": "code",
   "execution_count": 24,
   "metadata": {},
   "outputs": [
    {
     "data": {
      "text/plain": [
       "'./data/2020_04/销售单据表.xls'"
      ]
     },
     "execution_count": 24,
     "metadata": {},
     "output_type": "execute_result"
    }
   ],
   "source": [
    "bill.sell_file"
   ]
  },
  {
   "cell_type": "code",
   "execution_count": 25,
   "metadata": {},
   "outputs": [
    {
     "name": "stdout",
     "output_type": "stream",
     "text": [
      "总收入: 4163\n",
      "充值总收入: 3500\n",
      "充次总收入: 0\n"
     ]
    }
   ],
   "source": [
    "bill.get_total_income()"
   ]
  },
  {
   "cell_type": "code",
   "execution_count": 26,
   "metadata": {},
   "outputs": [
    {
     "data": {
      "text/plain": [
       "'./data/2020_04/提成明细表.xls'"
      ]
     },
     "execution_count": 26,
     "metadata": {},
     "output_type": "execute_result"
    }
   ],
   "source": [
    "bill.commission_file"
   ]
  },
  {
   "cell_type": "code",
   "execution_count": 27,
   "metadata": {},
   "outputs": [
    {
     "name": "stdout",
     "output_type": "stream",
     "text": [
      "孙妮\n",
      "      时间  员工    名称    支付     提成  提成类型   姓名\n",
      "0    4-1  孙妮   NaN   500   25.0  充值收费   黄婷\n",
      "1    4-1  孙妮   NaN   194   77.6  快速消费   黄婷\n",
      "2    4-1  孙妮   NaN   182   39.5  快速消费  小米粥\n",
      "3    4-3  孙妮  暖宫艾灸    88    8.0  扣次消费   潘潘\n",
      "4    4-6  孙妮  暖宫艾灸    88    8.0  扣次消费   潘潘\n",
      "5   4-10  孙妮   NaN    69   27.6  快速消费   黄婷\n",
      "6   4-10  孙妮   NaN   194   77.6  快速消费   张依\n",
      "7   4-10  孙妮   NaN   194   77.6  快速消费   刘梅\n",
      "8   4-13  孙妮   NaN   194   77.6  快速消费   姣爷\n",
      "9   4-13  孙妮   NaN   100   40.0  快速消费  NaN\n",
      "10  4-14  孙妮   NaN    69   27.6  快速消费   刘梅\n",
      "11  4-14  孙妮   NaN    20    8.0  快速消费  NaN\n",
      "12  4-14  孙妮  暖宫艾灸    88    8.0  扣次消费   潘潘\n",
      "13  4-29  孙妮   NaN  1000   50.0  开户收费   王敏\n",
      "14  4-29  孙妮   NaN    53   21.2  快速消费   王敏\n",
      "15  4-29  孙妮   NaN  1000   50.0  充值收费  小倪姐\n",
      "16  4-29  孙妮   NaN   294  117.6  快速消费   小郭\n",
      "17  4-29  孙妮   NaN  1000   50.0  开户收费  王丹婧\n",
      "18  4-29  孙妮   NaN   149   59.6  快速消费  王丹婧\n",
      "19  4-29  孙妮   NaN   230   92.0  快速消费  NaN\n",
      "20  4-29  孙妮   NaN    80   32.0  快速消费  NaN\n",
      "21  4-29  孙妮   NaN    80   32.0  快速消费  NaN\n",
      "22  4-29  孙妮   NaN   194   77.6  快速消费   潘潘\n",
      "23  4-30  孙妮   NaN   164   65.6  快速消费  蒋丽红\n",
      "24  4-30  孙妮   NaN   100   40.0  快速消费  NaN\n",
      "1189.6999999999998\n",
      "邵红梅\n",
      "      时间   员工      名称   支付    提成  提成类型   姓名\n",
      "25   4-1  邵红梅     NaN  182  41.2  快速消费  小米粥\n",
      "26  4-29  邵红梅    精油开背   88  30.0  扣次消费  刘红贵\n",
      "27  4-29  邵红梅  皮肤清洁护理  132  30.0  扣次消费  刘红贵\n",
      "101.2\n",
      "黄晴\n",
      "      时间  员工    名称  支付    提成  提成类型   姓名\n",
      "28  4-10  黄晴  精油开背  88  30.0  扣次消费   张依\n",
      "29  4-29  黄晴  精油开背  88  30.0  扣次消费  沈慧仙\n",
      "30  4-29  黄晴  暖宫艾灸  88   8.0  扣次消费  沈慧仙\n",
      "31  4-29  黄晴  暖宫艾灸  88   8.0  扣次消费   潘潘\n",
      "76.0\n"
     ]
    },
    {
     "name": "stderr",
     "output_type": "stream",
     "text": [
      "/Users/mtdp/opt/anaconda3/lib/python3.7/site-packages/ipykernel_launcher.py:59: SettingWithCopyWarning: \n",
      "A value is trying to be set on a copy of a slice from a DataFrame.\n",
      "Try using .loc[row_indexer,col_indexer] = value instead\n",
      "\n",
      "See the caveats in the documentation: https://pandas.pydata.org/pandas-docs/stable/user_guide/indexing.html#returning-a-view-versus-a-copy\n"
     ]
    }
   ],
   "source": [
    "bill.get_employee_commission()"
   ]
  },
  {
   "cell_type": "code",
   "execution_count": 28,
   "metadata": {},
   "outputs": [],
   "source": [
    "des_sum = bill.get_recharge_detail()"
   ]
  },
  {
   "cell_type": "code",
   "execution_count": 29,
   "metadata": {},
   "outputs": [
    {
     "data": {
      "text/plain": [
       "'累计充值：3500,各个会员充值情况如下\\n==============================\\n黄婷(60006):累计充值500元\\n明细如下:\\n充值收费:500,时间:4-1\\n==============================\\n小倪姐(60009):累计充值1000元\\n明细如下:\\n充值收费:1000,时间:4-29\\n==============================\\n王敏(60069):累计充值1000元\\n明细如下:\\n开户收费:1000,时间:4-29\\n==============================\\n王丹婧(60070):累计充值1000元\\n明细如下:\\n开户收费:1000,时间:4-29\\n==============================\\n'"
      ]
     },
     "execution_count": 29,
     "metadata": {},
     "output_type": "execute_result"
    }
   ],
   "source": [
    "des_sum"
   ]
  },
  {
   "cell_type": "code",
   "execution_count": 30,
   "metadata": {},
   "outputs": [],
   "source": [
    "des_not_member = bill.get_nomember_detail()"
   ]
  },
  {
   "cell_type": "code",
   "execution_count": 31,
   "metadata": {},
   "outputs": [
    {
     "data": {
      "text/plain": [
       "'散客累计消费:610\\n明细如下：\\n快速消费:100,时间:4-13\\n快速消费:20,时间:4-14\\n快速消费:230,时间:4-29\\n快速消费:80,时间:4-29\\n快速消费:80,时间:4-29\\n快速消费:100,时间:4-30\\n'"
      ]
     },
     "execution_count": 31,
     "metadata": {},
     "output_type": "execute_result"
    }
   ],
   "source": [
    "des_not_member"
   ]
  },
  {
   "cell_type": "code",
   "execution_count": null,
   "metadata": {},
   "outputs": [],
   "source": []
  },
  {
   "cell_type": "code",
   "execution_count": null,
   "metadata": {},
   "outputs": [],
   "source": []
  },
  {
   "cell_type": "code",
   "execution_count": null,
   "metadata": {},
   "outputs": [],
   "source": []
  },
  {
   "cell_type": "code",
   "execution_count": null,
   "metadata": {},
   "outputs": [],
   "source": []
  }
 ],
 "metadata": {
  "kernelspec": {
   "display_name": "Python 3",
   "language": "python",
   "name": "python3"
  },
  "language_info": {
   "codemirror_mode": {
    "name": "ipython",
    "version": 3
   },
   "file_extension": ".py",
   "mimetype": "text/x-python",
   "name": "python",
   "nbconvert_exporter": "python",
   "pygments_lexer": "ipython3",
   "version": "3.7.4"
  }
 },
 "nbformat": 4,
 "nbformat_minor": 2
}
